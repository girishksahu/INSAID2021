{
 "cells": [
  {
   "cell_type": "markdown",
   "metadata": {
    "id": "ZyYWZAQ2xu0G"
   },
   "source": [
    "<center><img src=\"https://github.com/girishksahu/INSAID2021/blob/SMART_AI_Learning/INSAID_Full%20Logo.png?raw=true\" width=\"240\" height=\"100\" /></center>"
   ]
  },
  {
   "cell_type": "markdown",
   "metadata": {
    "id": "5mkv4UHgEipa"
   },
   "source": [
    "<h1><center>Machine Learning Foundation Project - Predicting Beijing's Air for Air Purifier Company</center><h1>"
   ]
  },
  {
   "cell_type": "markdown",
   "metadata": {
    "id": "ssyIiSn2Eipb"
   },
   "source": [
    "<center><img width=40% src=\"https://github.com/girishksahu/INSAID2021/blob/ML-Foundation-Predicting-Beijings-Air-Pollution-Project/predicting-bejings-air-pollution.png?raw=true\"></center>"
   ]
  },
  {
   "cell_type": "markdown",
   "metadata": {
    "id": "Rrs4ecLVxxyB"
   },
   "source": [
    "---\n",
    "# **Table of Contents**\n",
    "---\n",
    "\n",
    "**1.** [**Introduction**](#Section1)<br>\n",
    "**2.** [**Problem Statement**](#Section2)<br>\n",
    "**3.** [**Importing Libraries**](#Section3)<br>\n",
    "  - **3.1** [**Version Check**](#Section31)\n",
    "  - **3.2** [**Importing Libraries**](#Section32)\n",
    "\n",
    "**4.** [**Data Acquisition & Description**](#Section4)<br>\n",
    "  - **4.1** [**Data Description**](#Section41)\n",
    "  - **4.2** [**Data Information**](#Section42)\n",
    "\n",
    "**5.** [**Data Pre-processing**](#Section5)<br>\n",
    "  - **5.1** [**Data Pre-profiling**](#Section51)<br>\n",
    "  - **5.2** [**Data Pre-Processing**](#Section52)<br>\n",
    "  - **5.3** [**Data Post-profiling**](#Section53)<br>\n",
    "\n",
    "**6.** [**Exploratory Data Analysis**](#Section6)<br>\n",
    "**7.** [**Data Post-Processing**](#Section7)<br>\n",
    "  - **7.1** [**Feature Selection**](#Section71)<br> \n",
    "  - **7.2** [**Data Preparation**](#Section72)<br>\n",
    "  - **7.3** [**Data Scaling**](#Section73)<br>\n",
    "\n",
    "**8.** [**Model Development & Evaluation**](#Section8)<br>\n",
    "**9.** [**Summarization**](#Section9)<br>\n",
    "  - **9.1** [**Conclusion**](#Section91)<br>"
   ]
  },
  {
   "cell_type": "markdown",
   "metadata": {
    "id": "TtA6ebp2x1m1"
   },
   "source": [
    "---\n",
    "<a name = Section1></a>\n",
    "# **1. Introduction**\n",
    "---\n",
    "\n",
    "- Your client for this project is an air purifier company.\n",
    "\n",
    "    - One of the leading Global pollution controller organizations.\n",
    "\n",
    "    - The company is working its way for the betterment of the society by using advanced technologies to purify the air by removing harmful particles from the atmosphere.\n",
    "\n",
    "\n",
    "**<h3>Current Scenario:</h3>**\n",
    "\n",
    "- As we know in recent years the pollution emitted per day has increased drastically, countries all around the world are taking up actions in order to tackle the rapid increase in pollution to avoid global warming.\n",
    "- Beijing’s pollution authority has collected data for the past 5 years and the data has been passed on to your client by the government of China.\n",
    "- The company calculates pollution using traditional or manual methods, so it needs a model to do the long process."
   ]
  },
  {
   "cell_type": "markdown",
   "metadata": {
    "id": "6PD50alP7PbO"
   },
   "source": [
    "---\n",
    "<a name = Section2></a>\n",
    "# **2. Problem Statement**\n",
    "---\n",
    "\n",
    "- **Currently, Beijing is suffering from:**\n",
    "  - China is notorious for being a major polluter. Its economic growth in the past three decades has been the fastest among major nations, which is the main factor in why China has extensive air pollution.\n",
    "  - China’s Environmental Sustainability Index is ranked near the bottom among countries worldwide.\n",
    "  - Air Pollution in Beijing is mainly dominated by coal combustion and vehicles running on the roads.\n",
    "  - With this amplified wealth, individuals are more capable of affording motor vehicles. The number of motor vehicles on Beijing’s roads has doubled to 3.3 million with nearly 1200 added each day.\n",
    "\n",
    "- Airifi has hired you as a data science consultant. \n",
    "  - They want you to come up with actionable insights and a model that could help predict pollution.\n",
    "\n",
    "  - They expect a model that could predict the daily pollution emission for Beijing.\n",
    "  - The idea is to use the model in order to take further action to reduce the pollution rate.\n",
    "\n",
    "<a name = Section21></a>\n",
    "### **Your Role**\n",
    "\n",
    "- You are given a dataset of the past few years of the air quality (2013-2017).\n",
    "- The data is from the 12 stations of Beijing that have been thoroughly observed.\n",
    "- Your task is to build a regression model using the dataset.\n",
    "- Because there was no machine learning model for this problem in the company, you don’t have a quantifiable win condition. \n",
    "- You need to build the best possible model.\n",
    "\n",
    "<a name = Section21></a>\n",
    "### **Project Deliverables**\n",
    "- Deliverable: Predict the particulate matter from the given set of data.\n",
    "- Machine Learning Task: Regression\n",
    "- Target Variable: PM2.5\n",
    "- Win Condition: N/A (best possible model)\n",
    "\n",
    "<a name = Section21></a>\n",
    "### **Evaluation Metric**\n",
    "\n",
    "- The model evaluation will be based on the RMSE score."
   ]
  },
  {
   "cell_type": "markdown",
   "metadata": {
    "id": "b9NOLpdcEiph"
   },
   "source": [
    "<center><img src=\"https://github.com/girishksahu/INSAID2021/blob/ML-Foundation-Predicting-Beijings-Air-Pollution-Project/Global-PM2.5-map.JPG?raw=true\"></center>"
   ]
  },
  {
   "cell_type": "markdown",
   "metadata": {
    "id": "uqq_eeCl7T--"
   },
   "source": [
    "---\n",
    "<a name = Section3></a>\n",
    "# **3. Importing Libraries**\n",
    "---"
   ]
  },
  {
   "cell_type": "markdown",
   "metadata": {
    "id": "RM7-_O1X7Vvn"
   },
   "source": [
    "<a name = Section31></a>\n",
    "### **3.1 Version Check**"
   ]
  },
  {
   "cell_type": "code",
   "execution_count": 306,
   "metadata": {
    "id": "vy7KwPADEipm"
   },
   "outputs": [
    {
     "name": "stdout",
     "output_type": "stream",
     "text": [
      "python version 3.8.5\n"
     ]
    }
   ],
   "source": [
    "from platform import python_version\n",
    "\n",
    "# Printing version of Python to ensure correct version is used for this project\n",
    "print(\"python version\", python_version())\n",
    "#!pip list\n",
    "#!pip show\n"
   ]
  },
  {
   "cell_type": "markdown",
   "metadata": {
    "id": "WTASHFS47cFv"
   },
   "source": [
    "<a name = Section32></a>\n",
    "### **3.2 Importing Libraries**"
   ]
  },
  {
   "cell_type": "code",
   "execution_count": 307,
   "metadata": {
    "id": "IvwRw1f77a-U"
   },
   "outputs": [
    {
     "name": "stdout",
     "output_type": "stream",
     "text": [
      "pandas version 1.1.3\n",
      "numpy version 1.19.2\n",
      "seaborn version 0.11.0\n",
      "sklearn version 0.24.2\n"
     ]
    }
   ],
   "source": [
    "#------------------------------------------------------------------------------------------------------------------------------\n",
    "import pandas as pd                                                 # Importing for panel data analysis\n",
    "from pandas_profiling import ProfileReport                          # Import Pandas Profiling (To generate Univariate Analysis)\n",
    "pd.set_option('display.max_columns', None)                          # Unfolding hidden features if the cardinality is high\n",
    "pd.set_option('display.max_rows', None)                             # Unfolding hidden data points if the cardinality is high\n",
    "pd.set_option('mode.chained_assignment', None)                      # Removing restriction over chained assignments operations\n",
    "#-------------------------------------------------------------------------------------------------------------------------------\n",
    "import numpy as np                                                  # Importing package numpys (For Numerical Python)\n",
    "from scipy.stats import randint as sp_randint                       # For initializing random integer values\n",
    "#-------------------------------------------------------------------------------------------------------------------------------\n",
    "import matplotlib.pyplot as plt                                     # Importing pyplot interface using matplotlib\n",
    "import seaborn as sns                                               # Importin seaborm library for interactive visualization\n",
    "%matplotlib inline\n",
    "import sklearn.metrics\n",
    "#-------------------------------------------------------------------------------------------------------------------------------\n",
    "from sklearn.preprocessing import StandardScaler                    # To scaled data with mean 0 and variance 1\n",
    "from sklearn.model_selection import RandomizedSearchCV              # To find best hyperparamter setting for the algorithm\n",
    "from sklearn.metrics import classification_report                   # To generate classification report\n",
    "from sklearn.metrics import plot_confusion_matrix                   # To plot confusion matrix\n",
    "#import pydotplus                                                    # To generate pydot file\n",
    "from IPython.display import Image                                   # To generate image using pydot file\n",
    "#-------------------------------------------------------------------------------------------------------------------------------\n",
    "#-------------------------------------------------------------------------------------------------------------------------------\n",
    "from sklearn.metrics import accuracy_score                          # For calculating the accuracy for the model\n",
    "from sklearn.metrics import precision_score                         # For calculating the Precision of the model\n",
    "from sklearn.metrics import recall_score                            # For calculating the recall of the model\n",
    "from sklearn.metrics import precision_recall_curve                  # For precision and recall metric estimation\n",
    "from sklearn.metrics import confusion_matrix                        # For verifying model performance using confusion matrix\n",
    "from sklearn.metrics import f1_score                                # For Checking the F1-Score of our model  \n",
    "from sklearn.metrics import roc_curve                               # For Roc-Auc metric estimation\n",
    "from sklearn.metrics import plot_roc_curve\n",
    "#-------------------------------------------------------------------------------------------------------------------------------\n",
    "from sklearn.model_selection import train_test_split                # To split the data in training and testing part     \n",
    "from sklearn.linear_model import LogisticRegression                 # To create the Logistic Regression Model\n",
    "#-------------------------------------------------------------------------------------------------------------------------------\n",
    "import warnings                                                     # Importing warning to disable runtime warnings\n",
    "warnings.filterwarnings(\"ignore\")                                   # Warnings will appear only once\n",
    "\n",
    "#Printing version of few key libraries to ensure correct once are used\n",
    "print (\"pandas version\", pd.__version__)\n",
    "print (\"numpy version\", np.__version__)\n",
    "print (\"seaborn version\", sns.__version__)\n",
    "print (\"sklearn version\", sklearn.__version__)"
   ]
  },
  {
   "cell_type": "markdown",
   "metadata": {
    "id": "UrpwmWxc7iif"
   },
   "source": [
    "---\n",
    "<a name = Section4></a>\n",
    "# **4. Data Acquisition & Description**\n",
    "---\n",
    "\n",
    "- The **Training dataset** consists of the information about **Air Quality of Beijing** from 2013-2016 along with column **PM2.5** which provides Atmospheric particulate matter(PM) information that have a diameter less than 2.5 micrometers.\n",
    "\n",
    "\n",
    "| Records | Features | Dataset Size |\n",
    "| :-- | :-- | :-- |\n",
    "| 403776 | 17 | 55 MB | \n",
    "\n",
    "<br>\n",
    "\n",
    "| ID | Feature Name | Description of the feature |\n",
    "| :-- | :--| :--| \n",
    "|01| **REF_NO**   | Index of rows                          |\n",
    "|02| **year** | Contains the year in which the data was Recorded                 |\n",
    "|03| **month**        | Contains the month of the year in which the data was Recorded            |\n",
    "|04| **day**          | Contains the day of the month in which the data was Recorded                     |\n",
    "|05| **hour**      | Contains at what hour of the day the data was Recorded                  |\n",
    "|06| **PM2.5**           | Atmospheric particulate matter (PM) that have a diameter less than 2.5 micrometers\n",
    "|07| **PM10**     | Atmospheric particulate matter (PM) that have a diameter less than 10 micrometers |\n",
    "|08| **SO2**     | SO2 concentration (ug/m^3)|\n",
    "|09| **NO2**        | NO2 concentration (ug/m^3)|\n",
    "|10| **CO**          | CO concentration (ug/m^3)  |\n",
    "|11| **O3**         | Ozone concentration (ug/m^3) |\n",
    "|12| **Temp**     | temperature (degree Celsius)  |\n",
    "|13| **PRES**     | \tpressure (hPa)  |\n",
    "|14| **DEWP**     | dew point temperature (degree Celsius) |\n",
    "|15| **RAIN**     | RAIN in (mm) |\n",
    "|16| **wd**     | wind direction  |\n",
    "|17| **WSPM**     | wind speed (m/s)  |\n",
    "|18| **station**     | name of the air-quality monitoring site   |\n",
    "\n",
    "\n",
    "- The **Test dataset** consists of the information about **Air Quality of Beijing** for 2017 and **PM2.5** need to be predicted which provides Atmospheric particulate matter(PM) information that have a diameter less than 2.5 micrometers.\n",
    "\n",
    "| Records | Features | Dataset Size |\n",
    "| :-- | :-- | :-- |\n",
    "| 16728 | 16 | 2.2 MB | \n",
    "\n",
    "<br>"
   ]
  },
  {
   "cell_type": "markdown",
   "metadata": {
    "id": "XFqXRKo690e5"
   },
   "source": [
    "- Load AE Corp Retail Bank Customer Data to be used for Training and Validation"
   ]
  },
  {
   "cell_type": "code",
   "execution_count": 308,
   "metadata": {
    "id": "xxBLyDgo7a7H"
   },
   "outputs": [
    {
     "name": "stdout",
     "output_type": "stream",
     "text": [
      "Shape of the Training and Validation dataset: (403776, 17)\n"
     ]
    },
    {
     "data": {
      "text/html": [
       "<div>\n",
       "<style scoped>\n",
       "    .dataframe tbody tr th:only-of-type {\n",
       "        vertical-align: middle;\n",
       "    }\n",
       "\n",
       "    .dataframe tbody tr th {\n",
       "        vertical-align: top;\n",
       "    }\n",
       "\n",
       "    .dataframe thead th {\n",
       "        text-align: right;\n",
       "    }\n",
       "</style>\n",
       "<table border=\"1\" class=\"dataframe\">\n",
       "  <thead>\n",
       "    <tr style=\"text-align: right;\">\n",
       "      <th></th>\n",
       "      <th>year</th>\n",
       "      <th>month</th>\n",
       "      <th>day</th>\n",
       "      <th>hour</th>\n",
       "      <th>PM2.5</th>\n",
       "      <th>PM10</th>\n",
       "      <th>SO2</th>\n",
       "      <th>NO2</th>\n",
       "      <th>CO</th>\n",
       "      <th>O3</th>\n",
       "      <th>TEMP</th>\n",
       "      <th>PRES</th>\n",
       "      <th>DEWP</th>\n",
       "      <th>RAIN</th>\n",
       "      <th>wd</th>\n",
       "      <th>WSPM</th>\n",
       "      <th>station</th>\n",
       "    </tr>\n",
       "    <tr>\n",
       "      <th>REF_NO</th>\n",
       "      <th></th>\n",
       "      <th></th>\n",
       "      <th></th>\n",
       "      <th></th>\n",
       "      <th></th>\n",
       "      <th></th>\n",
       "      <th></th>\n",
       "      <th></th>\n",
       "      <th></th>\n",
       "      <th></th>\n",
       "      <th></th>\n",
       "      <th></th>\n",
       "      <th></th>\n",
       "      <th></th>\n",
       "      <th></th>\n",
       "      <th></th>\n",
       "      <th></th>\n",
       "    </tr>\n",
       "  </thead>\n",
       "  <tbody>\n",
       "    <tr>\n",
       "      <th>1</th>\n",
       "      <td>2013</td>\n",
       "      <td>3</td>\n",
       "      <td>1</td>\n",
       "      <td>0</td>\n",
       "      <td>4.0</td>\n",
       "      <td>4.0</td>\n",
       "      <td>4.0</td>\n",
       "      <td>7.0</td>\n",
       "      <td>300.0</td>\n",
       "      <td>77.0</td>\n",
       "      <td>-0.7</td>\n",
       "      <td>1023.0</td>\n",
       "      <td>-18.8</td>\n",
       "      <td>0.0</td>\n",
       "      <td>NNW</td>\n",
       "      <td>4.4</td>\n",
       "      <td>Aotizhongxin</td>\n",
       "    </tr>\n",
       "    <tr>\n",
       "      <th>2</th>\n",
       "      <td>2013</td>\n",
       "      <td>3</td>\n",
       "      <td>1</td>\n",
       "      <td>1</td>\n",
       "      <td>8.0</td>\n",
       "      <td>8.0</td>\n",
       "      <td>4.0</td>\n",
       "      <td>7.0</td>\n",
       "      <td>300.0</td>\n",
       "      <td>77.0</td>\n",
       "      <td>-1.1</td>\n",
       "      <td>1023.2</td>\n",
       "      <td>-18.2</td>\n",
       "      <td>0.0</td>\n",
       "      <td>N</td>\n",
       "      <td>4.7</td>\n",
       "      <td>Aotizhongxin</td>\n",
       "    </tr>\n",
       "    <tr>\n",
       "      <th>3</th>\n",
       "      <td>2013</td>\n",
       "      <td>3</td>\n",
       "      <td>1</td>\n",
       "      <td>2</td>\n",
       "      <td>7.0</td>\n",
       "      <td>7.0</td>\n",
       "      <td>5.0</td>\n",
       "      <td>10.0</td>\n",
       "      <td>300.0</td>\n",
       "      <td>73.0</td>\n",
       "      <td>-1.1</td>\n",
       "      <td>1023.5</td>\n",
       "      <td>-18.2</td>\n",
       "      <td>0.0</td>\n",
       "      <td>NNW</td>\n",
       "      <td>5.6</td>\n",
       "      <td>Aotizhongxin</td>\n",
       "    </tr>\n",
       "    <tr>\n",
       "      <th>4</th>\n",
       "      <td>2013</td>\n",
       "      <td>3</td>\n",
       "      <td>1</td>\n",
       "      <td>3</td>\n",
       "      <td>6.0</td>\n",
       "      <td>6.0</td>\n",
       "      <td>11.0</td>\n",
       "      <td>11.0</td>\n",
       "      <td>300.0</td>\n",
       "      <td>72.0</td>\n",
       "      <td>-1.4</td>\n",
       "      <td>1024.5</td>\n",
       "      <td>-19.4</td>\n",
       "      <td>0.0</td>\n",
       "      <td>NW</td>\n",
       "      <td>3.1</td>\n",
       "      <td>Aotizhongxin</td>\n",
       "    </tr>\n",
       "    <tr>\n",
       "      <th>5</th>\n",
       "      <td>2013</td>\n",
       "      <td>3</td>\n",
       "      <td>1</td>\n",
       "      <td>4</td>\n",
       "      <td>3.0</td>\n",
       "      <td>3.0</td>\n",
       "      <td>12.0</td>\n",
       "      <td>12.0</td>\n",
       "      <td>300.0</td>\n",
       "      <td>72.0</td>\n",
       "      <td>-2.0</td>\n",
       "      <td>1025.2</td>\n",
       "      <td>-19.5</td>\n",
       "      <td>0.0</td>\n",
       "      <td>N</td>\n",
       "      <td>2.0</td>\n",
       "      <td>Aotizhongxin</td>\n",
       "    </tr>\n",
       "  </tbody>\n",
       "</table>\n",
       "</div>"
      ],
      "text/plain": [
       "        year  month  day  hour  PM2.5  PM10   SO2   NO2     CO    O3  TEMP  \\\n",
       "REF_NO                                                                       \n",
       "1       2013      3    1     0    4.0   4.0   4.0   7.0  300.0  77.0  -0.7   \n",
       "2       2013      3    1     1    8.0   8.0   4.0   7.0  300.0  77.0  -1.1   \n",
       "3       2013      3    1     2    7.0   7.0   5.0  10.0  300.0  73.0  -1.1   \n",
       "4       2013      3    1     3    6.0   6.0  11.0  11.0  300.0  72.0  -1.4   \n",
       "5       2013      3    1     4    3.0   3.0  12.0  12.0  300.0  72.0  -2.0   \n",
       "\n",
       "          PRES  DEWP  RAIN   wd  WSPM       station  \n",
       "REF_NO                                               \n",
       "1       1023.0 -18.8   0.0  NNW   4.4  Aotizhongxin  \n",
       "2       1023.2 -18.2   0.0    N   4.7  Aotizhongxin  \n",
       "3       1023.5 -18.2   0.0  NNW   5.6  Aotizhongxin  \n",
       "4       1024.5 -19.4   0.0   NW   3.1  Aotizhongxin  \n",
       "5       1025.2 -19.5   0.0    N   2.0  Aotizhongxin  "
      ]
     },
     "execution_count": 308,
     "metadata": {},
     "output_type": "execute_result"
    }
   ],
   "source": [
    "# REF_NO is unique ID for record and can be used as label for index\n",
    "beijing_master_data = pd.read_csv(\"https://raw.githubusercontent.com/girishksahu/INSAID2021/ML-Foundation-Predicting-Beijings-Air-Pollution-Project/beijing_train.csv\", index_col='REF_NO')\n",
    "\n",
    "# Get the dimesions of data\n",
    "print('Shape of the Training and Validation dataset:', beijing_master_data.shape)\n",
    "\n",
    "# Output first 5 data rows\n",
    "beijing_master_data.head()\n"
   ]
  },
  {
   "cell_type": "markdown",
   "metadata": {
    "id": "tTuO0pmQ90e7"
   },
   "source": [
    "- Load Beijing's Air Test Data to be used for Prediction"
   ]
  },
  {
   "cell_type": "code",
   "execution_count": 309,
   "metadata": {
    "id": "vLcrXKX190e7"
   },
   "outputs": [
    {
     "name": "stdout",
     "output_type": "stream",
     "text": [
      "Shape of the Test dataset to be used for Prediction: (16728, 16)\n"
     ]
    },
    {
     "data": {
      "text/html": [
       "<div>\n",
       "<style scoped>\n",
       "    .dataframe tbody tr th:only-of-type {\n",
       "        vertical-align: middle;\n",
       "    }\n",
       "\n",
       "    .dataframe tbody tr th {\n",
       "        vertical-align: top;\n",
       "    }\n",
       "\n",
       "    .dataframe thead th {\n",
       "        text-align: right;\n",
       "    }\n",
       "</style>\n",
       "<table border=\"1\" class=\"dataframe\">\n",
       "  <thead>\n",
       "    <tr style=\"text-align: right;\">\n",
       "      <th></th>\n",
       "      <th>year</th>\n",
       "      <th>month</th>\n",
       "      <th>day</th>\n",
       "      <th>hour</th>\n",
       "      <th>PM10</th>\n",
       "      <th>SO2</th>\n",
       "      <th>NO2</th>\n",
       "      <th>CO</th>\n",
       "      <th>O3</th>\n",
       "      <th>TEMP</th>\n",
       "      <th>PRES</th>\n",
       "      <th>DEWP</th>\n",
       "      <th>RAIN</th>\n",
       "      <th>wd</th>\n",
       "      <th>WSPM</th>\n",
       "      <th>station</th>\n",
       "    </tr>\n",
       "    <tr>\n",
       "      <th>REF_NO</th>\n",
       "      <th></th>\n",
       "      <th></th>\n",
       "      <th></th>\n",
       "      <th></th>\n",
       "      <th></th>\n",
       "      <th></th>\n",
       "      <th></th>\n",
       "      <th></th>\n",
       "      <th></th>\n",
       "      <th></th>\n",
       "      <th></th>\n",
       "      <th></th>\n",
       "      <th></th>\n",
       "      <th></th>\n",
       "      <th></th>\n",
       "      <th></th>\n",
       "    </tr>\n",
       "  </thead>\n",
       "  <tbody>\n",
       "    <tr>\n",
       "      <th>33649</th>\n",
       "      <td>2017</td>\n",
       "      <td>1</td>\n",
       "      <td>1</td>\n",
       "      <td>0</td>\n",
       "      <td>496.0</td>\n",
       "      <td>8.0</td>\n",
       "      <td>121.0</td>\n",
       "      <td>6100.0</td>\n",
       "      <td>4.0</td>\n",
       "      <td>-4.7</td>\n",
       "      <td>1022.1</td>\n",
       "      <td>-6.1</td>\n",
       "      <td>0.0</td>\n",
       "      <td>ENE</td>\n",
       "      <td>1.0</td>\n",
       "      <td>Aotizhongxin</td>\n",
       "    </tr>\n",
       "    <tr>\n",
       "      <th>33650</th>\n",
       "      <td>2017</td>\n",
       "      <td>1</td>\n",
       "      <td>1</td>\n",
       "      <td>1</td>\n",
       "      <td>497.0</td>\n",
       "      <td>7.0</td>\n",
       "      <td>113.0</td>\n",
       "      <td>6300.0</td>\n",
       "      <td>4.0</td>\n",
       "      <td>-5.2</td>\n",
       "      <td>1022.3</td>\n",
       "      <td>-6.4</td>\n",
       "      <td>0.0</td>\n",
       "      <td>E</td>\n",
       "      <td>0.7</td>\n",
       "      <td>Aotizhongxin</td>\n",
       "    </tr>\n",
       "    <tr>\n",
       "      <th>33651</th>\n",
       "      <td>2017</td>\n",
       "      <td>1</td>\n",
       "      <td>1</td>\n",
       "      <td>2</td>\n",
       "      <td>469.0</td>\n",
       "      <td>7.0</td>\n",
       "      <td>111.0</td>\n",
       "      <td>6200.0</td>\n",
       "      <td>4.0</td>\n",
       "      <td>-5.4</td>\n",
       "      <td>1022.5</td>\n",
       "      <td>-6.5</td>\n",
       "      <td>0.0</td>\n",
       "      <td>ENE</td>\n",
       "      <td>1.1</td>\n",
       "      <td>Aotizhongxin</td>\n",
       "    </tr>\n",
       "    <tr>\n",
       "      <th>33652</th>\n",
       "      <td>2017</td>\n",
       "      <td>1</td>\n",
       "      <td>1</td>\n",
       "      <td>3</td>\n",
       "      <td>425.0</td>\n",
       "      <td>6.0</td>\n",
       "      <td>109.0</td>\n",
       "      <td>5900.0</td>\n",
       "      <td>3.0</td>\n",
       "      <td>-5.2</td>\n",
       "      <td>1022.5</td>\n",
       "      <td>-6.2</td>\n",
       "      <td>0.0</td>\n",
       "      <td>E</td>\n",
       "      <td>1.1</td>\n",
       "      <td>Aotizhongxin</td>\n",
       "    </tr>\n",
       "    <tr>\n",
       "      <th>33653</th>\n",
       "      <td>2017</td>\n",
       "      <td>1</td>\n",
       "      <td>1</td>\n",
       "      <td>4</td>\n",
       "      <td>468.0</td>\n",
       "      <td>10.0</td>\n",
       "      <td>123.0</td>\n",
       "      <td>7700.0</td>\n",
       "      <td>16.0</td>\n",
       "      <td>-5.0</td>\n",
       "      <td>1021.9</td>\n",
       "      <td>-5.8</td>\n",
       "      <td>0.0</td>\n",
       "      <td>ENE</td>\n",
       "      <td>1.0</td>\n",
       "      <td>Aotizhongxin</td>\n",
       "    </tr>\n",
       "  </tbody>\n",
       "</table>\n",
       "</div>"
      ],
      "text/plain": [
       "        year  month  day  hour   PM10   SO2    NO2      CO    O3  TEMP  \\\n",
       "REF_NO                                                                   \n",
       "33649   2017      1    1     0  496.0   8.0  121.0  6100.0   4.0  -4.7   \n",
       "33650   2017      1    1     1  497.0   7.0  113.0  6300.0   4.0  -5.2   \n",
       "33651   2017      1    1     2  469.0   7.0  111.0  6200.0   4.0  -5.4   \n",
       "33652   2017      1    1     3  425.0   6.0  109.0  5900.0   3.0  -5.2   \n",
       "33653   2017      1    1     4  468.0  10.0  123.0  7700.0  16.0  -5.0   \n",
       "\n",
       "          PRES  DEWP  RAIN   wd  WSPM       station  \n",
       "REF_NO                                               \n",
       "33649   1022.1  -6.1   0.0  ENE   1.0  Aotizhongxin  \n",
       "33650   1022.3  -6.4   0.0    E   0.7  Aotizhongxin  \n",
       "33651   1022.5  -6.5   0.0  ENE   1.1  Aotizhongxin  \n",
       "33652   1022.5  -6.2   0.0    E   1.1  Aotizhongxin  \n",
       "33653   1021.9  -5.8   0.0  ENE   1.0  Aotizhongxin  "
      ]
     },
     "execution_count": 309,
     "metadata": {},
     "output_type": "execute_result"
    }
   ],
   "source": [
    "# REF_NO is unique ID for record and can be used as label for index\n",
    "beijing_test_data = pd.read_csv(\"https://raw.githubusercontent.com/girishksahu/INSAID2021/ML-Foundation-Predicting-Beijings-Air-Pollution-Project/beijing_test.csv\", index_col='REF_NO')\n",
    "\n",
    "# Get the dimesions of data\n",
    "print('Shape of the Test dataset to be used for Prediction:', beijing_test_data.shape)\n",
    "\n",
    "# Output first 5 data rows\n",
    "beijing_test_data.head()"
   ]
  },
  {
   "cell_type": "code",
   "execution_count": 310,
   "metadata": {
    "id": "5U7d5Frk7DNK"
   },
   "outputs": [],
   "source": [
    "#There is dot in spelling of column PM2.5, so renaming it for better clarity while accessing for any dat processing work\n",
    "\n",
    "beijing_master_data=beijing_master_data.rename(columns={'PM2.5':'PM25'})\n",
    "beijing_test_data=beijing_test_data.rename(columns={'PM2.5':'PM25'})"
   ]
  },
  {
   "cell_type": "code",
   "execution_count": 311,
   "metadata": {
    "id": "tugM4joIEipv"
   },
   "outputs": [
    {
     "data": {
      "text/plain": [
       "True"
      ]
     },
     "execution_count": 311,
     "metadata": {},
     "output_type": "execute_result"
    }
   ],
   "source": [
    "# Check for any missing values\n",
    "any(beijing_master_data.isna().sum())"
   ]
  },
  {
   "cell_type": "code",
   "execution_count": 312,
   "metadata": {
    "id": "xD8YT7na90e8"
   },
   "outputs": [
    {
     "data": {
      "text/plain": [
       "False"
      ]
     },
     "execution_count": 312,
     "metadata": {},
     "output_type": "execute_result"
    }
   ],
   "source": [
    "#check if any duplicate row\n",
    "any(beijing_master_data.duplicated())"
   ]
  },
  {
   "cell_type": "markdown",
   "metadata": {
    "id": "SpQsei5Q8BGS"
   },
   "source": [
    "<a name = Section41></a>\n",
    "### **4.1 Data Description**\n",
    "\n",
    "- In this section we will get **information about the data** and see some observations."
   ]
  },
  {
   "cell_type": "code",
   "execution_count": 313,
   "metadata": {
    "id": "Z5c6POtLEipv"
   },
   "outputs": [
    {
     "name": "stdout",
     "output_type": "stream",
     "text": [
      "Describe Feature Length: 17\n"
     ]
    },
    {
     "data": {
      "text/html": [
       "<div>\n",
       "<style scoped>\n",
       "    .dataframe tbody tr th:only-of-type {\n",
       "        vertical-align: middle;\n",
       "    }\n",
       "\n",
       "    .dataframe tbody tr th {\n",
       "        vertical-align: top;\n",
       "    }\n",
       "\n",
       "    .dataframe thead th {\n",
       "        text-align: right;\n",
       "    }\n",
       "</style>\n",
       "<table border=\"1\" class=\"dataframe\">\n",
       "  <thead>\n",
       "    <tr style=\"text-align: right;\">\n",
       "      <th></th>\n",
       "      <th>year</th>\n",
       "      <th>month</th>\n",
       "      <th>day</th>\n",
       "      <th>hour</th>\n",
       "    </tr>\n",
       "  </thead>\n",
       "  <tbody>\n",
       "    <tr>\n",
       "      <th>count</th>\n",
       "      <td>403776.0</td>\n",
       "      <td>403776.0</td>\n",
       "      <td>403776.0</td>\n",
       "      <td>403776.0</td>\n",
       "    </tr>\n",
       "  </tbody>\n",
       "</table>\n",
       "</div>"
      ],
      "text/plain": [
       "           year     month       day      hour\n",
       "count  403776.0  403776.0  403776.0  403776.0"
      ]
     },
     "execution_count": 313,
     "metadata": {},
     "output_type": "execute_result"
    }
   ],
   "source": [
    "# year, month, day and hour are not relvant for statistical description\n",
    "print('Describe Feature Length:', len(beijing_master_data.describe(include='all').columns))\n",
    "beijing_master_data.describe(include=[np.int64]).filter(items=['count'], axis=0)"
   ]
  },
  {
   "cell_type": "code",
   "execution_count": 314,
   "metadata": {
    "id": "vmYaroaO7XSG"
   },
   "outputs": [
    {
     "data": {
      "text/html": [
       "<div>\n",
       "<style scoped>\n",
       "    .dataframe tbody tr th:only-of-type {\n",
       "        vertical-align: middle;\n",
       "    }\n",
       "\n",
       "    .dataframe tbody tr th {\n",
       "        vertical-align: top;\n",
       "    }\n",
       "\n",
       "    .dataframe thead th {\n",
       "        text-align: right;\n",
       "    }\n",
       "</style>\n",
       "<table border=\"1\" class=\"dataframe\">\n",
       "  <thead>\n",
       "    <tr style=\"text-align: right;\">\n",
       "      <th></th>\n",
       "      <th>PM25</th>\n",
       "      <th>PM10</th>\n",
       "      <th>SO2</th>\n",
       "      <th>NO2</th>\n",
       "      <th>CO</th>\n",
       "      <th>O3</th>\n",
       "      <th>TEMP</th>\n",
       "      <th>PRES</th>\n",
       "      <th>DEWP</th>\n",
       "      <th>RAIN</th>\n",
       "      <th>WSPM</th>\n",
       "    </tr>\n",
       "  </thead>\n",
       "  <tbody>\n",
       "    <tr>\n",
       "      <th>count</th>\n",
       "      <td>395301.000000</td>\n",
       "      <td>397554.000000</td>\n",
       "      <td>395000.000000</td>\n",
       "      <td>391917.000000</td>\n",
       "      <td>383515.000000</td>\n",
       "      <td>390769.000000</td>\n",
       "      <td>403512.000000</td>\n",
       "      <td>403511.000000</td>\n",
       "      <td>403507.000000</td>\n",
       "      <td>403515.000000</td>\n",
       "      <td>403538.000000</td>\n",
       "    </tr>\n",
       "    <tr>\n",
       "      <th>mean</th>\n",
       "      <td>79.248275</td>\n",
       "      <td>104.327897</td>\n",
       "      <td>15.733060</td>\n",
       "      <td>50.352785</td>\n",
       "      <td>1214.843339</td>\n",
       "      <td>58.119327</td>\n",
       "      <td>14.088899</td>\n",
       "      <td>1010.282534</td>\n",
       "      <td>3.157291</td>\n",
       "      <td>0.067052</td>\n",
       "      <td>1.718380</td>\n",
       "    </tr>\n",
       "    <tr>\n",
       "      <th>std</th>\n",
       "      <td>79.146708</td>\n",
       "      <td>90.136400</td>\n",
       "      <td>21.739455</td>\n",
       "      <td>34.771910</td>\n",
       "      <td>1124.285676</td>\n",
       "      <td>57.375966</td>\n",
       "      <td>11.303534</td>\n",
       "      <td>10.356778</td>\n",
       "      <td>13.617273</td>\n",
       "      <td>0.837845</td>\n",
       "      <td>1.237965</td>\n",
       "    </tr>\n",
       "    <tr>\n",
       "      <th>min</th>\n",
       "      <td>2.000000</td>\n",
       "      <td>2.000000</td>\n",
       "      <td>0.285600</td>\n",
       "      <td>1.026500</td>\n",
       "      <td>100.000000</td>\n",
       "      <td>0.214200</td>\n",
       "      <td>-19.900000</td>\n",
       "      <td>982.400000</td>\n",
       "      <td>-43.400000</td>\n",
       "      <td>0.000000</td>\n",
       "      <td>0.000000</td>\n",
       "    </tr>\n",
       "    <tr>\n",
       "      <th>25%</th>\n",
       "      <td>21.000000</td>\n",
       "      <td>36.000000</td>\n",
       "      <td>2.000000</td>\n",
       "      <td>23.000000</td>\n",
       "      <td>500.000000</td>\n",
       "      <td>11.000000</td>\n",
       "      <td>4.000000</td>\n",
       "      <td>1002.000000</td>\n",
       "      <td>-8.000000</td>\n",
       "      <td>0.000000</td>\n",
       "      <td>0.900000</td>\n",
       "    </tr>\n",
       "    <tr>\n",
       "      <th>50%</th>\n",
       "      <td>55.000000</td>\n",
       "      <td>83.000000</td>\n",
       "      <td>7.000000</td>\n",
       "      <td>43.000000</td>\n",
       "      <td>900.000000</td>\n",
       "      <td>45.000000</td>\n",
       "      <td>15.400000</td>\n",
       "      <td>1009.800000</td>\n",
       "      <td>4.200000</td>\n",
       "      <td>0.000000</td>\n",
       "      <td>1.400000</td>\n",
       "    </tr>\n",
       "    <tr>\n",
       "      <th>75%</th>\n",
       "      <td>110.000000</td>\n",
       "      <td>145.000000</td>\n",
       "      <td>19.000000</td>\n",
       "      <td>71.000000</td>\n",
       "      <td>1500.000000</td>\n",
       "      <td>83.000000</td>\n",
       "      <td>23.500000</td>\n",
       "      <td>1018.300000</td>\n",
       "      <td>15.500000</td>\n",
       "      <td>0.000000</td>\n",
       "      <td>2.200000</td>\n",
       "    </tr>\n",
       "    <tr>\n",
       "      <th>max</th>\n",
       "      <td>999.000000</td>\n",
       "      <td>999.000000</td>\n",
       "      <td>500.000000</td>\n",
       "      <td>290.000000</td>\n",
       "      <td>10000.000000</td>\n",
       "      <td>1071.000000</td>\n",
       "      <td>41.600000</td>\n",
       "      <td>1042.800000</td>\n",
       "      <td>29.100000</td>\n",
       "      <td>72.500000</td>\n",
       "      <td>13.200000</td>\n",
       "    </tr>\n",
       "  </tbody>\n",
       "</table>\n",
       "</div>"
      ],
      "text/plain": [
       "                PM25           PM10            SO2            NO2  \\\n",
       "count  395301.000000  397554.000000  395000.000000  391917.000000   \n",
       "mean       79.248275     104.327897      15.733060      50.352785   \n",
       "std        79.146708      90.136400      21.739455      34.771910   \n",
       "min         2.000000       2.000000       0.285600       1.026500   \n",
       "25%        21.000000      36.000000       2.000000      23.000000   \n",
       "50%        55.000000      83.000000       7.000000      43.000000   \n",
       "75%       110.000000     145.000000      19.000000      71.000000   \n",
       "max       999.000000     999.000000     500.000000     290.000000   \n",
       "\n",
       "                  CO             O3           TEMP           PRES  \\\n",
       "count  383515.000000  390769.000000  403512.000000  403511.000000   \n",
       "mean     1214.843339      58.119327      14.088899    1010.282534   \n",
       "std      1124.285676      57.375966      11.303534      10.356778   \n",
       "min       100.000000       0.214200     -19.900000     982.400000   \n",
       "25%       500.000000      11.000000       4.000000    1002.000000   \n",
       "50%       900.000000      45.000000      15.400000    1009.800000   \n",
       "75%      1500.000000      83.000000      23.500000    1018.300000   \n",
       "max     10000.000000    1071.000000      41.600000    1042.800000   \n",
       "\n",
       "                DEWP           RAIN           WSPM  \n",
       "count  403507.000000  403515.000000  403538.000000  \n",
       "mean        3.157291       0.067052       1.718380  \n",
       "std        13.617273       0.837845       1.237965  \n",
       "min       -43.400000       0.000000       0.000000  \n",
       "25%        -8.000000       0.000000       0.900000  \n",
       "50%         4.200000       0.000000       1.400000  \n",
       "75%        15.500000       0.000000       2.200000  \n",
       "max        29.100000      72.500000      13.200000  "
      ]
     },
     "execution_count": 314,
     "metadata": {},
     "output_type": "execute_result"
    }
   ],
   "source": [
    "#Basic statistical details for numeric variables\n",
    "\n",
    "beijing_master_data.describe(include=[np.float64])"
   ]
  },
  {
   "cell_type": "markdown",
   "metadata": {
    "id": "rgdPuEzB8Ncn"
   },
   "source": [
    "**Observations:**\n",
    "- Total count for all numeric variables is not same (403776) which confirms that there are missing values.\n",
    "- Most of them appear to have outliers and mean value is higher than median\n",
    "- Variables like **PM25 (PM2.5)**,**PM10**, **SO2**,**NO2**, **CO** and **O3** appears to be highly skewed.\n",
    "- Variables like **TEMP**, **PRES** and **DEWP** appears to have somewhat normal distribution.\n",
    "- Variable like **WSPM** seems to have descent normal distribution but has minimum value as zero so need to check further.\n",
    "- Variable like **RAIN** seems to have lots of outliers and has minimum and median value showing as zero so need to check further."
   ]
  },
  {
   "cell_type": "code",
   "execution_count": 315,
   "metadata": {
    "id": "MTeJbxvSEipw"
   },
   "outputs": [
    {
     "data": {
      "text/html": [
       "<div>\n",
       "<style scoped>\n",
       "    .dataframe tbody tr th:only-of-type {\n",
       "        vertical-align: middle;\n",
       "    }\n",
       "\n",
       "    .dataframe tbody tr th {\n",
       "        vertical-align: top;\n",
       "    }\n",
       "\n",
       "    .dataframe thead th {\n",
       "        text-align: right;\n",
       "    }\n",
       "</style>\n",
       "<table border=\"1\" class=\"dataframe\">\n",
       "  <thead>\n",
       "    <tr style=\"text-align: right;\">\n",
       "      <th></th>\n",
       "      <th>wd</th>\n",
       "      <th>station</th>\n",
       "    </tr>\n",
       "  </thead>\n",
       "  <tbody>\n",
       "    <tr>\n",
       "      <th>count</th>\n",
       "      <td>402387</td>\n",
       "      <td>403776</td>\n",
       "    </tr>\n",
       "    <tr>\n",
       "      <th>unique</th>\n",
       "      <td>16</td>\n",
       "      <td>12</td>\n",
       "    </tr>\n",
       "    <tr>\n",
       "      <th>top</th>\n",
       "      <td>NE</td>\n",
       "      <td>Wanliu</td>\n",
       "    </tr>\n",
       "    <tr>\n",
       "      <th>freq</th>\n",
       "      <td>40049</td>\n",
       "      <td>33648</td>\n",
       "    </tr>\n",
       "  </tbody>\n",
       "</table>\n",
       "</div>"
      ],
      "text/plain": [
       "            wd station\n",
       "count   402387  403776\n",
       "unique      16      12\n",
       "top         NE  Wanliu\n",
       "freq     40049   33648"
      ]
     },
     "execution_count": 315,
     "metadata": {},
     "output_type": "execute_result"
    }
   ],
   "source": [
    "#Basic statistical details for categorical variables\n",
    "beijing_master_data.describe(include=[np.object])"
   ]
  },
  {
   "cell_type": "markdown",
   "metadata": {
    "id": "QbQLixkYEipw"
   },
   "source": [
    "**Observations:**\n",
    "- Total count for categorical variable **wd** is not 403776 which confirms that there are missing values. \n",
    "- Majority of data are from Dingling **station** and **wd** is NE"
   ]
  },
  {
   "cell_type": "code",
   "execution_count": 316,
   "metadata": {
    "id": "BNSfUnbNEipx"
   },
   "outputs": [
    {
     "data": {
      "text/plain": [
       "0"
      ]
     },
     "execution_count": 316,
     "metadata": {},
     "output_type": "execute_result"
    }
   ],
   "source": [
    "# Check any duplicate rows\n",
    "beijing_master_data.duplicated().sum()"
   ]
  },
  {
   "cell_type": "code",
   "execution_count": 317,
   "metadata": {
    "id": "1-ig0Ha5Eipx"
   },
   "outputs": [
    {
     "data": {
      "text/plain": [
       "Index(['year', 'month', 'day', 'hour', 'PM25', 'PM10', 'SO2', 'NO2', 'CO',\n",
       "       'O3', 'TEMP', 'PRES', 'DEWP', 'RAIN', 'wd', 'WSPM', 'station'],\n",
       "      dtype='object')"
      ]
     },
     "execution_count": 317,
     "metadata": {},
     "output_type": "execute_result"
    }
   ],
   "source": [
    "# Columns list can be handy and useful for further steps\n",
    "beijing_master_data.columns"
   ]
  },
  {
   "cell_type": "markdown",
   "metadata": {
    "id": "dQQ5Ks4P8PFv"
   },
   "source": [
    "<a name = Section42></a>\n",
    "### **4.2 Data Information**\n",
    "\n",
    "- In this section we will see the **information about the types of the features**."
   ]
  },
  {
   "cell_type": "code",
   "execution_count": 383,
   "metadata": {
    "id": "m3Rpdt3E8O0b"
   },
   "outputs": [
    {
     "name": "stdout",
     "output_type": "stream",
     "text": [
      "<class 'pandas.core.frame.DataFrame'>\n",
      "Int64Index: 403776 entries, 1 to 33648\n",
      "Data columns (total 17 columns):\n",
      " #   Column   Non-Null Count   Dtype  \n",
      "---  ------   --------------   -----  \n",
      " 0   year     403776 non-null  int64  \n",
      " 1   month    403776 non-null  int64  \n",
      " 2   day      403776 non-null  int64  \n",
      " 3   hour     403776 non-null  int64  \n",
      " 4   PM25     395301 non-null  float64\n",
      " 5   PM10     397554 non-null  float64\n",
      " 6   SO2      395000 non-null  float64\n",
      " 7   NO2      391917 non-null  float64\n",
      " 8   CO       383515 non-null  float64\n",
      " 9   O3       390769 non-null  float64\n",
      " 10  TEMP     403512 non-null  float64\n",
      " 11  PRES     403511 non-null  float64\n",
      " 12  DEWP     403507 non-null  float64\n",
      " 13  RAIN     403515 non-null  float64\n",
      " 14  wd       402387 non-null  object \n",
      " 15  WSPM     403538 non-null  float64\n",
      " 16  station  403776 non-null  object \n",
      "dtypes: float64(11), int64(4), object(2)\n",
      "memory usage: 65.5+ MB\n"
     ]
    }
   ],
   "source": [
    "# Check column data types and any null values\n",
    "beijing_master_data.info()"
   ]
  },
  {
   "cell_type": "markdown",
   "metadata": {
    "id": "n-SrlC0x8VIj"
   },
   "source": [
    "**Observations:**\n",
    "\n",
    "- Total Non-Null count for each column is not same as 403776 which means there are missing values.\n",
    "\n",
    "- There are **2 Categorical features**, **11 Numerical features** with 4 columns as integer feature as they contain numerical values."
   ]
  },
  {
   "cell_type": "code",
   "execution_count": 319,
   "metadata": {
    "id": "kndS14CHEipy"
   },
   "outputs": [
    {
     "name": "stdout",
     "output_type": "stream",
     "text": [
      "Categorical variables:\n",
      "['wd', 'station']\n"
     ]
    }
   ],
   "source": [
    "# Get list of categorical variables\n",
    "s = (beijing_master_data.dtypes == 'object')\n",
    "object_cols = list(s[s].index)\n",
    "\n",
    "print(\"Categorical variables:\")\n",
    "print(object_cols)"
   ]
  },
  {
   "cell_type": "code",
   "execution_count": 320,
   "metadata": {
    "id": "1JsnKy5tEipz"
   },
   "outputs": [
    {
     "name": "stdout",
     "output_type": "stream",
     "text": [
      "Numeric variables INT:\n",
      "['year', 'month', 'day', 'hour']\n"
     ]
    }
   ],
   "source": [
    "# Get list of numerical variables\n",
    "s = (beijing_master_data.dtypes == 'int64')\n",
    "numeric_cols = list(s[s].index)\n",
    "\n",
    "print(\"Numeric variables INT:\")\n",
    "print(numeric_cols)"
   ]
  },
  {
   "cell_type": "code",
   "execution_count": 321,
   "metadata": {
    "id": "_hRC2qgyEipz"
   },
   "outputs": [
    {
     "name": "stdout",
     "output_type": "stream",
     "text": [
      "Numeric variables Float:\n",
      "['PM25', 'PM10', 'SO2', 'NO2', 'CO', 'O3', 'TEMP', 'PRES', 'DEWP', 'RAIN', 'WSPM']\n"
     ]
    }
   ],
   "source": [
    "# Get list of numerical variables\n",
    "s = (beijing_master_data.dtypes == 'float64')\n",
    "numeric_cols = list(s[s].index)\n",
    "\n",
    "print(\"Numeric variables Float:\")\n",
    "print(numeric_cols)"
   ]
  },
  {
   "cell_type": "markdown",
   "metadata": {
    "id": "x1UTfHz7H_Kj"
   },
   "source": [
    "### **Numerical Data Distribution:**\n",
    "\n",
    "- We shall plot all **numerical features to analyze the distribution** of their past."
   ]
  },
  {
   "cell_type": "code",
   "execution_count": 322,
   "metadata": {
    "id": "_tkdLsT3AL02"
   },
   "outputs": [
    {
     "data": {
      "image/png": "[encoded data removed]",
      "text/plain": [
       "<Figure size 1440x1080 with 15 Axes>"
      ]
     },
     "metadata": {
      "needs_background": "light"
     },
     "output_type": "display_data"
    }
   ],
   "source": [
    "# For Random seed values\n",
    "from random import randint\n",
    "fig, axes = plt.subplots(nrows = 5, ncols = 3, sharex = False, figsize=(20, 15))\n",
    "colors = []\n",
    "for i in range(15):\n",
    "  colors.append('#%06X' % randint(0, 0xFFFFFF))\n",
    "  columns=['PM25', 'PM10', 'SO2', 'NO2', 'CO', 'O3', 'TEMP', 'PRES', 'DEWP', 'RAIN', 'WSPM','year', 'month', 'day', 'hour']\n",
    "for ax, col, color in zip(axes.flat, columns, colors):\n",
    "  sns.distplot(a = beijing_master_data[col], bins = 50, ax = ax, color = color)\n",
    "  ax.set_title(col)\n",
    "  plt.setp(axes, yticks=[])\n",
    "  ax.grid(False)\n",
    "plt.tight_layout()\n",
    "plt.show()"
   ]
  },
  {
   "cell_type": "markdown",
   "metadata": {
    "id": "0k-6kZuVFdmx"
   },
   "source": [
    "**Observation:**\n",
    "\n",
    "- **Postive Skewed Features: (Mean > Median)**\n",
    " - PM2.5,\n",
    " - PM10, \n",
    " - SO2, \n",
    " - NO, \n",
    " - CO, \n",
    " - O3\n",
    " - RAIN\n",
    "- **Negative Skewed Features: (Mean < Median)**\n",
    " - DEWP\n",
    "- **~ Normally Distributed Features: (Mean = Median = Mode)**\n",
    " - TEMP\n",
    " - PRES\n",
    " - WSPM\n",
    " - year\n",
    " - month\n",
    " - day\n",
    " - hour"
   ]
  },
  {
   "cell_type": "markdown",
   "metadata": {
    "id": "GQzduMy6IIxV"
   },
   "source": [
    "### **Categorical Data Distribution:**\n",
    "\n",
    "- We shall plot all **categorical features to analyze the distribution** of the past data.\n"
   ]
  },
  {
   "cell_type": "code",
   "execution_count": 323,
   "metadata": {
    "id": "Sj5GsmicBWbc"
   },
   "outputs": [
    {
     "data": {
      "image/png": "[encoded data removed]",
      "text/plain": [
       "<Figure size 720x576 with 2 Axes>"
      ]
     },
     "metadata": {
      "needs_background": "light"
     },
     "output_type": "display_data"
    }
   ],
   "source": [
    "fig, axes = plt.subplots(nrows = 1, ncols = 2, sharex = False, figsize=(10, 8))\n",
    "\n",
    "colors = []\n",
    "for i in range(2):\n",
    "  colors.append('#%06X' % randint(0, 0xFFFFFF))\n",
    "  \n",
    "for ax, col, color in zip(axes.flat, object_cols, colors):\n",
    "  ax.bar(x = beijing_master_data[col].value_counts().index, height = beijing_master_data[col].value_counts(), color = color)\n",
    "  ax.set_title(col)\n",
    "  ax.set_xlabel(' ')\n",
    "  ax.set_xticklabels(labels = ' ')\n",
    "  ax.grid(True)"
   ]
  },
  {
   "cell_type": "markdown",
   "metadata": {
    "id": "UsS2n3a0ITB7"
   },
   "source": [
    "**Observation:**\n",
    "\n",
    "- **Normal Distributed Features: (Mean = Median = Mode)**\n",
    " - station\n",
    "- **Postively Skewed Features: (Mean > Median)**\n",
    " - wd \n",
    "- **Negatively Skewed Features: (Mean < Median)**\n",
    " - NA"
   ]
  },
  {
   "cell_type": "markdown",
   "metadata": {
    "id": "oQSEAjYy8XfW"
   },
   "source": [
    "<a name = Section5></a>\n",
    "\n",
    "---\n",
    "# **5. Data Pre-Processing**\n",
    "---"
   ]
  },
  {
   "cell_type": "markdown",
   "metadata": {
    "id": "4L4wU-sm8ZLg"
   },
   "source": [
    "<a name = Section51></a>\n",
    "### **5.1 Data Pre-Profiling**\n",
    "\n",
    "- For **quick analysis** pandas profiling is very handy.\n",
    "\n",
    "- Generates profile reports from a pandas DataFrame.\n",
    "\n",
    "- For each column **statistics** are presented in an interactive HTML report."
   ]
  },
  {
   "cell_type": "code",
   "execution_count": 324,
   "metadata": {
    "id": "luX_DzAx8Owo"
   },
   "outputs": [],
   "source": [
    "# profile = ProfileReport(df=beijing_master_data)\n",
    "# profile.to_file(output_file='Predicting Beijings Air Pre Profiling Report.html')\n",
    "# print('Accomplished!')"
   ]
  },
  {
   "cell_type": "markdown",
   "metadata": {
    "id": "tNG4bnZe8b6o"
   },
   "source": [
    "**Observations:**\n",
    "\n",
    "- The report shows that there are a **total** of **18 features** out of which **15** are **numerical**, **3** are **categorical**, note that it is showing **year** as categorical type.\n",
    "\n",
    "- **REF_NO**, **year**, **month**, **day** and **hour** does not have any missing values but **hour** has around 4.2% as Zero values.\n",
    "\n",
    "- **PM2.5** has around 2.1% as missing values and distribution is positively skewed.\n",
    "\n",
    "- **PM10** has around 1.5% as missing values and distribution is positively skewed.\n",
    "\n",
    "- **SO2** has around 2.2% as missing values and distribution is positively skewed.\n",
    "\n",
    "- **NO2** has around 2.9% as missing values and distribution is positively skewd.\n",
    "\n",
    "- **CO** has around 5% as missing values and distribution is positively skewed.\n",
    "\n",
    "- **O3** has around 3.2% as missing values and distribution is positively skewed.\n",
    "\n",
    "- **TEMP** has around 0.1% as missing values and has around 0.7% as Zero values.\n",
    "\n",
    "- **PRES** has around 0.1% as missing values and appears to have normal distribution.\n",
    "\n",
    "- **DEWP** has around 0.1% as missing values and has around 0.2% as Zero values and distribution is negatively skewed.\n",
    "\n",
    "- **RAIN** has around 0.1% as missing values and has around 95.9% as Zero values and distribution is positively skewed.\n",
    "\n",
    "- **wd** has around 0.3% as missing values.\n",
    "\n",
    "- **WSPM** has around 0.1% as missing values and has around 2.7% as Zero values.\n",
    "\n",
    "- **station** has no missing values.\n",
    "\n",
    "\n",
    "- For detailed information, please check **Predicting Beijings Air Pre Profiling Report.html** file."
   ]
  },
  {
   "cell_type": "markdown",
   "metadata": {
    "id": "fM-c50LH88C0"
   },
   "source": [
    "<a name = Section52></a>\n",
    "### **5.2 Data Pre-Processing**\n",
    "\n",
    "- There are missing values and we will handle that after EDA and before Model Evaluation\n",
    "1. Missing Completely at Random (MCAR)\n",
    "    -  The missing values on a given variable (Y) are not associated with other variables in a given data set or with the variable (Y) itself. In other words, there is no particular reason for the missing values.\n",
    "2. Missing at Random (MAR)\n",
    "    - MAR occurs when the missingness is not random, but where missingness can be fully accounted for by variables where there is complete information.\n",
    "3. Missing Not at Random (MNAR)\n",
    "    - Missingness depends on unobserved data or the value of the missing data itself."
   ]
  },
  {
   "cell_type": "code",
   "execution_count": 325,
   "metadata": {},
   "outputs": [
    {
     "data": {
      "text/html": [
       "<div>\n",
       "<style scoped>\n",
       "    .dataframe tbody tr th:only-of-type {\n",
       "        vertical-align: middle;\n",
       "    }\n",
       "\n",
       "    .dataframe tbody tr th {\n",
       "        vertical-align: top;\n",
       "    }\n",
       "\n",
       "    .dataframe thead th {\n",
       "        text-align: right;\n",
       "    }\n",
       "</style>\n",
       "<table border=\"1\" class=\"dataframe\">\n",
       "  <thead>\n",
       "    <tr style=\"text-align: right;\">\n",
       "      <th></th>\n",
       "      <th>year</th>\n",
       "      <th>month</th>\n",
       "      <th>day</th>\n",
       "      <th>hour</th>\n",
       "      <th>PM25</th>\n",
       "      <th>PM10</th>\n",
       "      <th>SO2</th>\n",
       "      <th>NO2</th>\n",
       "      <th>CO</th>\n",
       "      <th>O3</th>\n",
       "      <th>TEMP</th>\n",
       "      <th>PRES</th>\n",
       "      <th>DEWP</th>\n",
       "      <th>RAIN</th>\n",
       "      <th>wd</th>\n",
       "      <th>WSPM</th>\n",
       "      <th>station</th>\n",
       "    </tr>\n",
       "    <tr>\n",
       "      <th>REF_NO</th>\n",
       "      <th></th>\n",
       "      <th></th>\n",
       "      <th></th>\n",
       "      <th></th>\n",
       "      <th></th>\n",
       "      <th></th>\n",
       "      <th></th>\n",
       "      <th></th>\n",
       "      <th></th>\n",
       "      <th></th>\n",
       "      <th></th>\n",
       "      <th></th>\n",
       "      <th></th>\n",
       "      <th></th>\n",
       "      <th></th>\n",
       "      <th></th>\n",
       "      <th></th>\n",
       "    </tr>\n",
       "  </thead>\n",
       "  <tbody>\n",
       "    <tr>\n",
       "      <th>1510</th>\n",
       "      <td>2013</td>\n",
       "      <td>5</td>\n",
       "      <td>2</td>\n",
       "      <td>21</td>\n",
       "      <td>NaN</td>\n",
       "      <td>183.0</td>\n",
       "      <td>63.0000</td>\n",
       "      <td>93.0000</td>\n",
       "      <td>1200.0</td>\n",
       "      <td>38.0000</td>\n",
       "      <td>18.5</td>\n",
       "      <td>1006.1</td>\n",
       "      <td>6.0</td>\n",
       "      <td>0.0</td>\n",
       "      <td>SE</td>\n",
       "      <td>2.8</td>\n",
       "      <td>Aotizhongxin</td>\n",
       "    </tr>\n",
       "    <tr>\n",
       "      <th>1838</th>\n",
       "      <td>2013</td>\n",
       "      <td>5</td>\n",
       "      <td>16</td>\n",
       "      <td>13</td>\n",
       "      <td>NaN</td>\n",
       "      <td>98.0</td>\n",
       "      <td>46.0000</td>\n",
       "      <td>35.0000</td>\n",
       "      <td>600.0</td>\n",
       "      <td>166.0000</td>\n",
       "      <td>26.1</td>\n",
       "      <td>1009.9</td>\n",
       "      <td>10.7</td>\n",
       "      <td>0.0</td>\n",
       "      <td>SW</td>\n",
       "      <td>2.7</td>\n",
       "      <td>Aotizhongxin</td>\n",
       "    </tr>\n",
       "    <tr>\n",
       "      <th>2369</th>\n",
       "      <td>2013</td>\n",
       "      <td>6</td>\n",
       "      <td>7</td>\n",
       "      <td>16</td>\n",
       "      <td>NaN</td>\n",
       "      <td>137.0</td>\n",
       "      <td>12.0000</td>\n",
       "      <td>74.0000</td>\n",
       "      <td>2500.0</td>\n",
       "      <td>8.0000</td>\n",
       "      <td>20.7</td>\n",
       "      <td>1002.4</td>\n",
       "      <td>19.4</td>\n",
       "      <td>0.0</td>\n",
       "      <td>NNE</td>\n",
       "      <td>0.8</td>\n",
       "      <td>Aotizhongxin</td>\n",
       "    </tr>\n",
       "    <tr>\n",
       "      <th>2786</th>\n",
       "      <td>2013</td>\n",
       "      <td>6</td>\n",
       "      <td>25</td>\n",
       "      <td>1</td>\n",
       "      <td>NaN</td>\n",
       "      <td>35.0</td>\n",
       "      <td>3.1416</td>\n",
       "      <td>35.1063</td>\n",
       "      <td>NaN</td>\n",
       "      <td>60.6186</td>\n",
       "      <td>20.8</td>\n",
       "      <td>996.5</td>\n",
       "      <td>20.5</td>\n",
       "      <td>0.0</td>\n",
       "      <td>NE</td>\n",
       "      <td>0.2</td>\n",
       "      <td>Aotizhongxin</td>\n",
       "    </tr>\n",
       "    <tr>\n",
       "      <th>2809</th>\n",
       "      <td>2013</td>\n",
       "      <td>6</td>\n",
       "      <td>26</td>\n",
       "      <td>0</td>\n",
       "      <td>NaN</td>\n",
       "      <td>183.0</td>\n",
       "      <td>64.2600</td>\n",
       "      <td>40.0335</td>\n",
       "      <td>NaN</td>\n",
       "      <td>NaN</td>\n",
       "      <td>21.7</td>\n",
       "      <td>993.0</td>\n",
       "      <td>21.2</td>\n",
       "      <td>0.0</td>\n",
       "      <td>NNW</td>\n",
       "      <td>0.4</td>\n",
       "      <td>Aotizhongxin</td>\n",
       "    </tr>\n",
       "    <tr>\n",
       "      <th>4188</th>\n",
       "      <td>2013</td>\n",
       "      <td>8</td>\n",
       "      <td>22</td>\n",
       "      <td>11</td>\n",
       "      <td>NaN</td>\n",
       "      <td>142.0</td>\n",
       "      <td>6.0000</td>\n",
       "      <td>89.0000</td>\n",
       "      <td>NaN</td>\n",
       "      <td>12.8520</td>\n",
       "      <td>24.3</td>\n",
       "      <td>1003.7</td>\n",
       "      <td>21.6</td>\n",
       "      <td>0.1</td>\n",
       "      <td>ENE</td>\n",
       "      <td>1.1</td>\n",
       "      <td>Aotizhongxin</td>\n",
       "    </tr>\n",
       "    <tr>\n",
       "      <th>5104</th>\n",
       "      <td>2013</td>\n",
       "      <td>9</td>\n",
       "      <td>29</td>\n",
       "      <td>15</td>\n",
       "      <td>NaN</td>\n",
       "      <td>242.0</td>\n",
       "      <td>22.0000</td>\n",
       "      <td>82.0000</td>\n",
       "      <td>1500.0</td>\n",
       "      <td>38.0000</td>\n",
       "      <td>19.3</td>\n",
       "      <td>1012.6</td>\n",
       "      <td>14.8</td>\n",
       "      <td>0.0</td>\n",
       "      <td>NNE</td>\n",
       "      <td>2.0</td>\n",
       "      <td>Aotizhongxin</td>\n",
       "    </tr>\n",
       "    <tr>\n",
       "      <th>5653</th>\n",
       "      <td>2013</td>\n",
       "      <td>10</td>\n",
       "      <td>22</td>\n",
       "      <td>12</td>\n",
       "      <td>NaN</td>\n",
       "      <td>162.0</td>\n",
       "      <td>45.0000</td>\n",
       "      <td>122.0000</td>\n",
       "      <td>NaN</td>\n",
       "      <td>NaN</td>\n",
       "      <td>16.4</td>\n",
       "      <td>1014.8</td>\n",
       "      <td>6.5</td>\n",
       "      <td>0.0</td>\n",
       "      <td>S</td>\n",
       "      <td>2.0</td>\n",
       "      <td>Aotizhongxin</td>\n",
       "    </tr>\n",
       "    <tr>\n",
       "      <th>6040</th>\n",
       "      <td>2013</td>\n",
       "      <td>11</td>\n",
       "      <td>7</td>\n",
       "      <td>15</td>\n",
       "      <td>NaN</td>\n",
       "      <td>58.0</td>\n",
       "      <td>15.0000</td>\n",
       "      <td>30.0000</td>\n",
       "      <td>NaN</td>\n",
       "      <td>38.7702</td>\n",
       "      <td>13.3</td>\n",
       "      <td>1012.8</td>\n",
       "      <td>-5.3</td>\n",
       "      <td>0.0</td>\n",
       "      <td>SW</td>\n",
       "      <td>2.5</td>\n",
       "      <td>Aotizhongxin</td>\n",
       "    </tr>\n",
       "    <tr>\n",
       "      <th>6305</th>\n",
       "      <td>2013</td>\n",
       "      <td>11</td>\n",
       "      <td>18</td>\n",
       "      <td>16</td>\n",
       "      <td>NaN</td>\n",
       "      <td>10.5</td>\n",
       "      <td>4.0000</td>\n",
       "      <td>2.0000</td>\n",
       "      <td>100.0</td>\n",
       "      <td>59.1192</td>\n",
       "      <td>6.4</td>\n",
       "      <td>1019.4</td>\n",
       "      <td>-13.3</td>\n",
       "      <td>0.0</td>\n",
       "      <td>NNE</td>\n",
       "      <td>2.0</td>\n",
       "      <td>Aotizhongxin</td>\n",
       "    </tr>\n",
       "  </tbody>\n",
       "</table>\n",
       "</div>"
      ],
      "text/plain": [
       "        year  month  day  hour  PM25   PM10      SO2       NO2      CO  \\\n",
       "REF_NO                                                                   \n",
       "1510    2013      5    2    21   NaN  183.0  63.0000   93.0000  1200.0   \n",
       "1838    2013      5   16    13   NaN   98.0  46.0000   35.0000   600.0   \n",
       "2369    2013      6    7    16   NaN  137.0  12.0000   74.0000  2500.0   \n",
       "2786    2013      6   25     1   NaN   35.0   3.1416   35.1063     NaN   \n",
       "2809    2013      6   26     0   NaN  183.0  64.2600   40.0335     NaN   \n",
       "4188    2013      8   22    11   NaN  142.0   6.0000   89.0000     NaN   \n",
       "5104    2013      9   29    15   NaN  242.0  22.0000   82.0000  1500.0   \n",
       "5653    2013     10   22    12   NaN  162.0  45.0000  122.0000     NaN   \n",
       "6040    2013     11    7    15   NaN   58.0  15.0000   30.0000     NaN   \n",
       "6305    2013     11   18    16   NaN   10.5   4.0000    2.0000   100.0   \n",
       "\n",
       "              O3  TEMP    PRES  DEWP  RAIN   wd  WSPM       station  \n",
       "REF_NO                                                               \n",
       "1510     38.0000  18.5  1006.1   6.0   0.0   SE   2.8  Aotizhongxin  \n",
       "1838    166.0000  26.1  1009.9  10.7   0.0   SW   2.7  Aotizhongxin  \n",
       "2369      8.0000  20.7  1002.4  19.4   0.0  NNE   0.8  Aotizhongxin  \n",
       "2786     60.6186  20.8   996.5  20.5   0.0   NE   0.2  Aotizhongxin  \n",
       "2809         NaN  21.7   993.0  21.2   0.0  NNW   0.4  Aotizhongxin  \n",
       "4188     12.8520  24.3  1003.7  21.6   0.1  ENE   1.1  Aotizhongxin  \n",
       "5104     38.0000  19.3  1012.6  14.8   0.0  NNE   2.0  Aotizhongxin  \n",
       "5653         NaN  16.4  1014.8   6.5   0.0    S   2.0  Aotizhongxin  \n",
       "6040     38.7702  13.3  1012.8  -5.3   0.0   SW   2.5  Aotizhongxin  \n",
       "6305     59.1192   6.4  1019.4 -13.3   0.0  NNE   2.0  Aotizhongxin  "
      ]
     },
     "execution_count": 325,
     "metadata": {},
     "output_type": "execute_result"
    }
   ],
   "source": [
    "beijing_master_data[pd.isnull(beijing_master_data.PM25)].head(10)"
   ]
  },
  {
   "cell_type": "code",
   "execution_count": 326,
   "metadata": {},
   "outputs": [],
   "source": [
    "# import missingno as msno\n",
    "# msno.bar(beijing_master_data)"
   ]
  },
  {
   "cell_type": "code",
   "execution_count": 327,
   "metadata": {},
   "outputs": [],
   "source": [
    "# msno.matrix(beijing_master_data)"
   ]
  },
  {
   "cell_type": "code",
   "execution_count": 328,
   "metadata": {},
   "outputs": [],
   "source": [
    "# #sorted by PM2.5\n",
    "# sorted = beijing_master_data.sort_values('PM25')\n",
    "# msno.matrix(sorted)"
   ]
  },
  {
   "cell_type": "code",
   "execution_count": 329,
   "metadata": {},
   "outputs": [],
   "source": [
    "# msno.heatmap(beijing_master_data)"
   ]
  },
  {
   "cell_type": "markdown",
   "metadata": {},
   "source": [
    "A dendogram is a tree diagram of missingness. It groups the highly correlated variables together."
   ]
  },
  {
   "cell_type": "code",
   "execution_count": 330,
   "metadata": {},
   "outputs": [],
   "source": [
    "# msno.dendrogram(beijing_master_data)"
   ]
  },
  {
   "cell_type": "markdown",
   "metadata": {
    "id": "QLwWFES98-I8"
   },
   "source": [
    "<a name = Section53></a>\n",
    "### **5.3 Data Post-Profiling**\n",
    "\n",
    "- We can run the report to get latest information"
   ]
  },
  {
   "cell_type": "code",
   "execution_count": 331,
   "metadata": {
    "id": "ciU9rER48-BI"
   },
   "outputs": [],
   "source": [
    "# post_profile=ProfileReport(df=cust_master_data)\n",
    "# post_profile.to_file(output_file='Customer-classification Post Profiling Report.html')\n",
    "# print('Accomplished!')"
   ]
  },
  {
   "cell_type": "markdown",
   "metadata": {
    "id": "ta0YDE_B9CrW"
   },
   "source": [
    "**Observations:**\n",
    "\n",
    "- TBD"
   ]
  },
  {
   "cell_type": "markdown",
   "metadata": {
    "id": "yRiwgAJL9IrJ"
   },
   "source": [
    "<a name = Section6></a>\n",
    "\n",
    "---\n",
    "# **6. Exploratory Data Analysis**\n",
    "---\n",
    "\n",
    "**NOTE**:  \n",
    "\n",
    "- Exploratory Data Analysis will explore all the features and their relationship with other features\n",
    "- Both non-graphical and graphical method will be used as applicable to respective features\n",
    "- Both univariate and bivariate method be used as applicable to respective features"
   ]
  },
  {
   "cell_type": "markdown",
   "metadata": {
    "id": "ptT-j5erEip4"
   },
   "source": [
    "**Q: What is the breakdown of Station?**"
   ]
  },
  {
   "cell_type": "code",
   "execution_count": 332,
   "metadata": {
    "id": "4Blph_-XEip4"
   },
   "outputs": [
    {
     "data": {
      "text/plain": [
       "Wanliu           33648\n",
       "Gucheng          33648\n",
       "Dongsi           33648\n",
       "Nongzhanguan     33648\n",
       "Huairou          33648\n",
       "Wanshouxigong    33648\n",
       "Changping        33648\n",
       "Guanyuan         33648\n",
       "Tiantan          33648\n",
       "Aotizhongxin     33648\n",
       "Shunyi           33648\n",
       "Dingling         33648\n",
       "Name: station, dtype: int64"
      ]
     },
     "execution_count": 332,
     "metadata": {},
     "output_type": "execute_result"
    }
   ],
   "source": [
    "beijing_master_data['station'].value_counts()"
   ]
  },
  {
   "cell_type": "markdown",
   "metadata": {
    "id": "lYFqRb_yEip5"
   },
   "source": [
    "**Q: What is the breakdown of wd?**"
   ]
  },
  {
   "cell_type": "code",
   "execution_count": 333,
   "metadata": {},
   "outputs": [
    {
     "data": {
      "text/html": [
       "<div>\n",
       "<style scoped>\n",
       "    .dataframe tbody tr th:only-of-type {\n",
       "        vertical-align: middle;\n",
       "    }\n",
       "\n",
       "    .dataframe tbody tr th {\n",
       "        vertical-align: top;\n",
       "    }\n",
       "\n",
       "    .dataframe thead th {\n",
       "        text-align: right;\n",
       "    }\n",
       "</style>\n",
       "<table border=\"1\" class=\"dataframe\">\n",
       "  <thead>\n",
       "    <tr style=\"text-align: right;\">\n",
       "      <th></th>\n",
       "      <th>PM10</th>\n",
       "    </tr>\n",
       "    <tr>\n",
       "      <th>station</th>\n",
       "      <th></th>\n",
       "    </tr>\n",
       "  </thead>\n",
       "  <tbody>\n",
       "    <tr>\n",
       "      <th>Gucheng</th>\n",
       "      <td>118.536530</td>\n",
       "    </tr>\n",
       "    <tr>\n",
       "      <th>Wanshouxigong</th>\n",
       "      <td>111.780375</td>\n",
       "    </tr>\n",
       "    <tr>\n",
       "      <th>Wanliu</th>\n",
       "      <td>110.445715</td>\n",
       "    </tr>\n",
       "    <tr>\n",
       "      <th>Aotizhongxin</th>\n",
       "      <td>110.176543</td>\n",
       "    </tr>\n",
       "    <tr>\n",
       "      <th>Dongsi</th>\n",
       "      <td>109.430203</td>\n",
       "    </tr>\n",
       "    <tr>\n",
       "      <th>Guanyuan</th>\n",
       "      <td>108.685075</td>\n",
       "    </tr>\n",
       "    <tr>\n",
       "      <th>Nongzhanguan</th>\n",
       "      <td>108.538013</td>\n",
       "    </tr>\n",
       "    <tr>\n",
       "      <th>Tiantan</th>\n",
       "      <td>105.562703</td>\n",
       "    </tr>\n",
       "    <tr>\n",
       "      <th>Shunyi</th>\n",
       "      <td>98.379834</td>\n",
       "    </tr>\n",
       "    <tr>\n",
       "      <th>Changping</th>\n",
       "      <td>94.670447</td>\n",
       "    </tr>\n",
       "    <tr>\n",
       "      <th>Huairou</th>\n",
       "      <td>91.459723</td>\n",
       "    </tr>\n",
       "    <tr>\n",
       "      <th>Dingling</th>\n",
       "      <td>83.958074</td>\n",
       "    </tr>\n",
       "  </tbody>\n",
       "</table>\n",
       "</div>"
      ],
      "text/plain": [
       "                     PM10\n",
       "station                  \n",
       "Gucheng        118.536530\n",
       "Wanshouxigong  111.780375\n",
       "Wanliu         110.445715\n",
       "Aotizhongxin   110.176543\n",
       "Dongsi         109.430203\n",
       "Guanyuan       108.685075\n",
       "Nongzhanguan   108.538013\n",
       "Tiantan        105.562703\n",
       "Shunyi          98.379834\n",
       "Changping       94.670447\n",
       "Huairou         91.459723\n",
       "Dingling        83.958074"
      ]
     },
     "execution_count": 333,
     "metadata": {},
     "output_type": "execute_result"
    }
   ],
   "source": [
    "stationandPM10=beijing_master_data[['station','PM10']]\n",
    "stationvsPM10= stationandPM10.groupby(by='station').mean().sort_values(by='PM10',ascending= False) \n",
    "# calculating the mean PM2.5 for each Station\n",
    "stationvsPM10"
   ]
  },
  {
   "cell_type": "code",
   "execution_count": 334,
   "metadata": {
    "id": "H_59-PckAVpU"
   },
   "outputs": [
    {
     "data": {
      "text/html": [
       "<div>\n",
       "<style scoped>\n",
       "    .dataframe tbody tr th:only-of-type {\n",
       "        vertical-align: middle;\n",
       "    }\n",
       "\n",
       "    .dataframe tbody tr th {\n",
       "        vertical-align: top;\n",
       "    }\n",
       "\n",
       "    .dataframe thead th {\n",
       "        text-align: right;\n",
       "    }\n",
       "</style>\n",
       "<table border=\"1\" class=\"dataframe\">\n",
       "  <thead>\n",
       "    <tr style=\"text-align: right;\">\n",
       "      <th></th>\n",
       "      <th>PM25</th>\n",
       "    </tr>\n",
       "    <tr>\n",
       "      <th>station</th>\n",
       "      <th></th>\n",
       "    </tr>\n",
       "  </thead>\n",
       "  <tbody>\n",
       "    <tr>\n",
       "      <th>Dongsi</th>\n",
       "      <td>85.465989</td>\n",
       "    </tr>\n",
       "    <tr>\n",
       "      <th>Nongzhanguan</th>\n",
       "      <td>84.129369</td>\n",
       "    </tr>\n",
       "    <tr>\n",
       "      <th>Wanshouxigong</th>\n",
       "      <td>84.086340</td>\n",
       "    </tr>\n",
       "    <tr>\n",
       "      <th>Gucheng</th>\n",
       "      <td>83.110626</td>\n",
       "    </tr>\n",
       "    <tr>\n",
       "      <th>Wanliu</th>\n",
       "      <td>82.920469</td>\n",
       "    </tr>\n",
       "    <tr>\n",
       "      <th>Guanyuan</th>\n",
       "      <td>82.515756</td>\n",
       "    </tr>\n",
       "    <tr>\n",
       "      <th>Aotizhongxin</th>\n",
       "      <td>82.260952</td>\n",
       "    </tr>\n",
       "    <tr>\n",
       "      <th>Tiantan</th>\n",
       "      <td>81.479200</td>\n",
       "    </tr>\n",
       "    <tr>\n",
       "      <th>Shunyi</th>\n",
       "      <td>78.802831</td>\n",
       "    </tr>\n",
       "    <tr>\n",
       "      <th>Changping</th>\n",
       "      <td>70.716012</td>\n",
       "    </tr>\n",
       "    <tr>\n",
       "      <th>Huairou</th>\n",
       "      <td>69.427838</td>\n",
       "    </tr>\n",
       "    <tr>\n",
       "      <th>Dingling</th>\n",
       "      <td>65.887825</td>\n",
       "    </tr>\n",
       "  </tbody>\n",
       "</table>\n",
       "</div>"
      ],
      "text/plain": [
       "                    PM25\n",
       "station                 \n",
       "Dongsi         85.465989\n",
       "Nongzhanguan   84.129369\n",
       "Wanshouxigong  84.086340\n",
       "Gucheng        83.110626\n",
       "Wanliu         82.920469\n",
       "Guanyuan       82.515756\n",
       "Aotizhongxin   82.260952\n",
       "Tiantan        81.479200\n",
       "Shunyi         78.802831\n",
       "Changping      70.716012\n",
       "Huairou        69.427838\n",
       "Dingling       65.887825"
      ]
     },
     "execution_count": 334,
     "metadata": {},
     "output_type": "execute_result"
    }
   ],
   "source": [
    "stationandPM25=beijing_master_data[['station','PM25']]\n",
    "stationvsPM25= stationandPM25.groupby(by='station').mean().sort_values(by='PM25',ascending= False) \n",
    "# calculating the mean PM2.5 for each station\n",
    "stationvsPM25"
   ]
  },
  {
   "cell_type": "code",
   "execution_count": 335,
   "metadata": {},
   "outputs": [
    {
     "data": {
      "text/plain": [
       "Text(0.5, 0, 'PM 2.5')"
      ]
     },
     "execution_count": 335,
     "metadata": {},
     "output_type": "execute_result"
    },
    {
     "data": {
      "image/png": "[encoded data removed]",
      "text/plain": [
       "<Figure size 864x720 with 1 Axes>"
      ]
     },
     "metadata": {
      "needs_background": "light"
     },
     "output_type": "display_data"
    }
   ],
   "source": [
    "plt.figure(figsize=(12,10))\n",
    "sns.set(font_scale = 1)\n",
    "sns.barplot(y=stationvsPM25.index, x=stationvsPM25['PM25'],)\n",
    "plt.xlabel('PM 2.5')"
   ]
  },
  {
   "cell_type": "code",
   "execution_count": 336,
   "metadata": {
    "id": "xyphdCkdEip5"
   },
   "outputs": [
    {
     "data": {
      "text/plain": [
       "NE     40049\n",
       "ENE    33262\n",
       "N      29973\n",
       "NW     29587\n",
       "E      29168\n",
       "NNE    27247\n",
       "SW     27083\n",
       "NNW    24167\n",
       "WNW    23815\n",
       "ESE    23691\n",
       "SSW    22130\n",
       "WSW    19587\n",
       "SE     19001\n",
       "S      18999\n",
       "SSE    17354\n",
       "W      17274\n",
       "Name: wd, dtype: int64"
      ]
     },
     "execution_count": 336,
     "metadata": {},
     "output_type": "execute_result"
    }
   ],
   "source": [
    "beijing_master_data['wd'].value_counts()"
   ]
  },
  {
   "cell_type": "code",
   "execution_count": 337,
   "metadata": {
    "id": "q2LggnkcoXLv"
   },
   "outputs": [
    {
     "data": {
      "text/plain": [
       "<AxesSubplot:ylabel='wd'>"
      ]
     },
     "execution_count": 337,
     "metadata": {},
     "output_type": "execute_result"
    },
    {
     "data": {
      "image/png": "[encoded data removed]",
      "text/plain": [
       "<Figure size 1080x1080 with 1 Axes>"
      ]
     },
     "metadata": {},
     "output_type": "display_data"
    }
   ],
   "source": [
    "beijing_master_data['wd'].value_counts().plot(kind='pie', explode=[0.05,0.05,0.05,0.05,0.05,0.05,0.05,0.05,0.05,0.05,0.05,0.05,0.05,0.05,0.05,0.05], fontsize=14, autopct='%.2f%%', wedgeprops=dict(width=0.15), \n",
    "\n",
    "                                       shadow=True, startangle=160, figsize=(15,15), cmap='inferno', legend=True)"
   ]
  },
  {
   "cell_type": "code",
   "execution_count": 338,
   "metadata": {},
   "outputs": [
    {
     "data": {
      "text/html": [
       "<div>\n",
       "<style scoped>\n",
       "    .dataframe tbody tr th:only-of-type {\n",
       "        vertical-align: middle;\n",
       "    }\n",
       "\n",
       "    .dataframe tbody tr th {\n",
       "        vertical-align: top;\n",
       "    }\n",
       "\n",
       "    .dataframe thead th {\n",
       "        text-align: right;\n",
       "    }\n",
       "</style>\n",
       "<table border=\"1\" class=\"dataframe\">\n",
       "  <thead>\n",
       "    <tr style=\"text-align: right;\">\n",
       "      <th></th>\n",
       "      <th>PM25</th>\n",
       "    </tr>\n",
       "    <tr>\n",
       "      <th>wd</th>\n",
       "      <th></th>\n",
       "    </tr>\n",
       "  </thead>\n",
       "  <tbody>\n",
       "    <tr>\n",
       "      <th>ESE</th>\n",
       "      <td>100.696606</td>\n",
       "    </tr>\n",
       "    <tr>\n",
       "      <th>E</th>\n",
       "      <td>99.675636</td>\n",
       "    </tr>\n",
       "    <tr>\n",
       "      <th>ENE</th>\n",
       "      <td>96.483546</td>\n",
       "    </tr>\n",
       "    <tr>\n",
       "      <th>SE</th>\n",
       "      <td>96.153981</td>\n",
       "    </tr>\n",
       "    <tr>\n",
       "      <th>SSE</th>\n",
       "      <td>92.816652</td>\n",
       "    </tr>\n",
       "    <tr>\n",
       "      <th>S</th>\n",
       "      <td>88.728997</td>\n",
       "    </tr>\n",
       "    <tr>\n",
       "      <th>NE</th>\n",
       "      <td>84.965484</td>\n",
       "    </tr>\n",
       "    <tr>\n",
       "      <th>SSW</th>\n",
       "      <td>83.236069</td>\n",
       "    </tr>\n",
       "    <tr>\n",
       "      <th>SW</th>\n",
       "      <td>78.841604</td>\n",
       "    </tr>\n",
       "    <tr>\n",
       "      <th>WSW</th>\n",
       "      <td>76.733047</td>\n",
       "    </tr>\n",
       "    <tr>\n",
       "      <th>W</th>\n",
       "      <td>73.512949</td>\n",
       "    </tr>\n",
       "    <tr>\n",
       "      <th>NNE</th>\n",
       "      <td>69.732234</td>\n",
       "    </tr>\n",
       "    <tr>\n",
       "      <th>N</th>\n",
       "      <td>67.213658</td>\n",
       "    </tr>\n",
       "    <tr>\n",
       "      <th>WNW</th>\n",
       "      <td>56.538945</td>\n",
       "    </tr>\n",
       "    <tr>\n",
       "      <th>NNW</th>\n",
       "      <td>53.775518</td>\n",
       "    </tr>\n",
       "    <tr>\n",
       "      <th>NW</th>\n",
       "      <td>51.482614</td>\n",
       "    </tr>\n",
       "  </tbody>\n",
       "</table>\n",
       "</div>"
      ],
      "text/plain": [
       "           PM25\n",
       "wd             \n",
       "ESE  100.696606\n",
       "E     99.675636\n",
       "ENE   96.483546\n",
       "SE    96.153981\n",
       "SSE   92.816652\n",
       "S     88.728997\n",
       "NE    84.965484\n",
       "SSW   83.236069\n",
       "SW    78.841604\n",
       "WSW   76.733047\n",
       "W     73.512949\n",
       "NNE   69.732234\n",
       "N     67.213658\n",
       "WNW   56.538945\n",
       "NNW   53.775518\n",
       "NW    51.482614"
      ]
     },
     "execution_count": 338,
     "metadata": {},
     "output_type": "execute_result"
    }
   ],
   "source": [
    "wdandPM25=beijing_master_data[['wd','PM25']]\n",
    "wdvsPM25= wdandPM25.groupby(by='wd').mean().sort_values(by='PM25',ascending= False) \n",
    "# calculating the mean PM2.5 for each Station\n",
    "wdvsPM25"
   ]
  },
  {
   "cell_type": "code",
   "execution_count": 339,
   "metadata": {},
   "outputs": [
    {
     "data": {
      "text/plain": [
       "Text(0.5, 0, 'PM 2.5')"
      ]
     },
     "execution_count": 339,
     "metadata": {},
     "output_type": "execute_result"
    },
    {
     "data": {
      "image/png": "[encoded data removed]",
      "text/plain": [
       "<Figure size 864x720 with 1 Axes>"
      ]
     },
     "metadata": {},
     "output_type": "display_data"
    }
   ],
   "source": [
    "plt.figure(figsize=(12,10))\n",
    "sns.set(font_scale = 1)\n",
    "sns.barplot(y=wdvsPM25.index, x=wdvsPM25['PM25'],)\n",
    "plt.xlabel('PM 2.5')"
   ]
  },
  {
   "cell_type": "markdown",
   "metadata": {
    "id": "MP7Ggq2PEiqA"
   },
   "source": [
    "**Below are various plots for Numeric feature distribution to get different view point for better data understanding**"
   ]
  },
  {
   "cell_type": "code",
   "execution_count": 340,
   "metadata": {},
   "outputs": [
    {
     "data": {
      "text/html": [
       "<div>\n",
       "<style scoped>\n",
       "    .dataframe tbody tr th:only-of-type {\n",
       "        vertical-align: middle;\n",
       "    }\n",
       "\n",
       "    .dataframe tbody tr th {\n",
       "        vertical-align: top;\n",
       "    }\n",
       "\n",
       "    .dataframe thead th {\n",
       "        text-align: right;\n",
       "    }\n",
       "</style>\n",
       "<table border=\"1\" class=\"dataframe\">\n",
       "  <thead>\n",
       "    <tr style=\"text-align: right;\">\n",
       "      <th></th>\n",
       "      <th>PM25</th>\n",
       "    </tr>\n",
       "    <tr>\n",
       "      <th>station</th>\n",
       "      <th></th>\n",
       "    </tr>\n",
       "  </thead>\n",
       "  <tbody>\n",
       "    <tr>\n",
       "      <th>Dongsi</th>\n",
       "      <td>85.465989</td>\n",
       "    </tr>\n",
       "    <tr>\n",
       "      <th>Nongzhanguan</th>\n",
       "      <td>84.129369</td>\n",
       "    </tr>\n",
       "    <tr>\n",
       "      <th>Wanshouxigong</th>\n",
       "      <td>84.086340</td>\n",
       "    </tr>\n",
       "    <tr>\n",
       "      <th>Gucheng</th>\n",
       "      <td>83.110626</td>\n",
       "    </tr>\n",
       "    <tr>\n",
       "      <th>Wanliu</th>\n",
       "      <td>82.920469</td>\n",
       "    </tr>\n",
       "    <tr>\n",
       "      <th>Guanyuan</th>\n",
       "      <td>82.515756</td>\n",
       "    </tr>\n",
       "    <tr>\n",
       "      <th>Aotizhongxin</th>\n",
       "      <td>82.260952</td>\n",
       "    </tr>\n",
       "    <tr>\n",
       "      <th>Tiantan</th>\n",
       "      <td>81.479200</td>\n",
       "    </tr>\n",
       "    <tr>\n",
       "      <th>Shunyi</th>\n",
       "      <td>78.802831</td>\n",
       "    </tr>\n",
       "    <tr>\n",
       "      <th>Changping</th>\n",
       "      <td>70.716012</td>\n",
       "    </tr>\n",
       "    <tr>\n",
       "      <th>Huairou</th>\n",
       "      <td>69.427838</td>\n",
       "    </tr>\n",
       "    <tr>\n",
       "      <th>Dingling</th>\n",
       "      <td>65.887825</td>\n",
       "    </tr>\n",
       "  </tbody>\n",
       "</table>\n",
       "</div>"
      ],
      "text/plain": [
       "                    PM25\n",
       "station                 \n",
       "Dongsi         85.465989\n",
       "Nongzhanguan   84.129369\n",
       "Wanshouxigong  84.086340\n",
       "Gucheng        83.110626\n",
       "Wanliu         82.920469\n",
       "Guanyuan       82.515756\n",
       "Aotizhongxin   82.260952\n",
       "Tiantan        81.479200\n",
       "Shunyi         78.802831\n",
       "Changping      70.716012\n",
       "Huairou        69.427838\n",
       "Dingling       65.887825"
      ]
     },
     "execution_count": 340,
     "metadata": {},
     "output_type": "execute_result"
    }
   ],
   "source": [
    "A=beijing_master_data[['station','PM25']]\n",
    "B= A.groupby(by='station').mean().sort_values(by='PM25',ascending= False) \n",
    "# calculating the mean PM2.5 for each Station\n",
    "B"
   ]
  },
  {
   "cell_type": "code",
   "execution_count": 341,
   "metadata": {},
   "outputs": [
    {
     "data": {
      "text/plain": [
       "<AxesSubplot:xlabel='count', ylabel='wd'>"
      ]
     },
     "execution_count": 341,
     "metadata": {},
     "output_type": "execute_result"
    },
    {
     "data": {
      "image/png": "[encoded data removed]",
      "text/plain": [
       "<Figure size 576x576 with 1 Axes>"
      ]
     },
     "metadata": {},
     "output_type": "display_data"
    }
   ],
   "source": [
    "plt.figure(figsize=(8,8))\n",
    "sns.countplot(y='wd',data=beijing_master_data,order=beijing_master_data['wd'].value_counts().index)"
   ]
  },
  {
   "cell_type": "markdown",
   "metadata": {
    "id": "nMcCldglEiqB"
   },
   "source": [
    "**Q: What is correlation of PM2.5 across various Numerical features**"
   ]
  },
  {
   "cell_type": "code",
   "execution_count": 342,
   "metadata": {
    "id": "vAeUYbETEiqI"
   },
   "outputs": [
    {
     "data": {
      "text/plain": [
       "Text(0.5, 1.0, 'Correlation between Numerical features and target variable')"
      ]
     },
     "execution_count": 342,
     "metadata": {},
     "output_type": "execute_result"
    },
    {
     "data": {
      "image/png": "[encoded data removed]",
      "text/plain": [
       "<Figure size 1800x1080 with 2 Axes>"
      ]
     },
     "metadata": {},
     "output_type": "display_data"
    }
   ],
   "source": [
    "#Check correlation primarily between Numerical linear features and target variable\n",
    "#Correlation is a measure used to represent how strongly two random variables are related to each other.\n",
    "#Correlation ranges between -1 and +1\n",
    "corr = beijing_master_data.corr(method='pearson')\n",
    "plt.figure(figsize=(25,15))\n",
    "sns.heatmap(corr,vmax=.8,linewidth=.01, square = True, annot = True,cmap='YlGnBu',linecolor ='black')\n",
    "plt.title('Correlation between Numerical features and target variable')"
   ]
  },
  {
   "cell_type": "markdown",
   "metadata": {
    "id": "PUEjjVoREiqI"
   },
   "source": [
    "**Observations:**\n",
    "\n",
    "- **TEMP** and **DEWP** has higher positive correlation\n",
    "- There is strong positive correlation for **PM2.5** with **PM10** \n",
    "- There is higher positive correlation for **PM2.5** with **CO**, **NO2** and **SO2**\n",
    "- There is positive correlation for **O3** and **TEMP**\n",
    "- There is positive correlation for **PM2.5** with **DEWP**"
   ]
  },
  {
   "cell_type": "code",
   "execution_count": 343,
   "metadata": {
    "id": "jXkuZ4EXEiqI"
   },
   "outputs": [
    {
     "data": {
      "text/html": [
       "<div>\n",
       "<style scoped>\n",
       "    .dataframe tbody tr th:only-of-type {\n",
       "        vertical-align: middle;\n",
       "    }\n",
       "\n",
       "    .dataframe tbody tr th {\n",
       "        vertical-align: top;\n",
       "    }\n",
       "\n",
       "    .dataframe thead th {\n",
       "        text-align: right;\n",
       "    }\n",
       "</style>\n",
       "<table border=\"1\" class=\"dataframe\">\n",
       "  <thead>\n",
       "    <tr style=\"text-align: right;\">\n",
       "      <th></th>\n",
       "      <th>year</th>\n",
       "      <th>month</th>\n",
       "      <th>day</th>\n",
       "      <th>hour</th>\n",
       "      <th>PM25</th>\n",
       "      <th>PM10</th>\n",
       "      <th>SO2</th>\n",
       "      <th>NO2</th>\n",
       "      <th>CO</th>\n",
       "      <th>O3</th>\n",
       "      <th>TEMP</th>\n",
       "      <th>PRES</th>\n",
       "      <th>DEWP</th>\n",
       "      <th>RAIN</th>\n",
       "      <th>WSPM</th>\n",
       "    </tr>\n",
       "  </thead>\n",
       "  <tbody>\n",
       "    <tr>\n",
       "      <th>year</th>\n",
       "      <td>1.204513</td>\n",
       "      <td>-3.371506e-01</td>\n",
       "      <td>-1.486417e-02</td>\n",
       "      <td>0.000000e+00</td>\n",
       "      <td>-3.894775</td>\n",
       "      <td>-4.921624</td>\n",
       "      <td>-4.766863</td>\n",
       "      <td>-3.127013</td>\n",
       "      <td>-2.700181e+01</td>\n",
       "      <td>0.119369</td>\n",
       "      <td>-0.788428</td>\n",
       "      <td>1.265501</td>\n",
       "      <td>-1.163555</td>\n",
       "      <td>0.007258</td>\n",
       "      <td>0.106101</td>\n",
       "    </tr>\n",
       "    <tr>\n",
       "      <th>month</th>\n",
       "      <td>-0.337151</td>\n",
       "      <td>1.126595e+01</td>\n",
       "      <td>2.507770e-01</td>\n",
       "      <td>5.279248e-20</td>\n",
       "      <td>6.368268</td>\n",
       "      <td>-6.428711</td>\n",
       "      <td>-16.139453</td>\n",
       "      <td>6.986111</td>\n",
       "      <td>2.866118e+02</td>\n",
       "      <td>-25.153771</td>\n",
       "      <td>2.462534</td>\n",
       "      <td>1.991023</td>\n",
       "      <td>9.666912</td>\n",
       "      <td>0.033771</td>\n",
       "      <td>-0.565949</td>\n",
       "    </tr>\n",
       "    <tr>\n",
       "      <th>day</th>\n",
       "      <td>-0.014864</td>\n",
       "      <td>2.507770e-01</td>\n",
       "      <td>7.759657e+01</td>\n",
       "      <td>2.572753e-16</td>\n",
       "      <td>13.851570</td>\n",
       "      <td>33.051557</td>\n",
       "      <td>-1.149304</td>\n",
       "      <td>7.726511</td>\n",
       "      <td>6.506420e+01</td>\n",
       "      <td>-0.542195</td>\n",
       "      <td>1.160096</td>\n",
       "      <td>2.180249</td>\n",
       "      <td>3.030135</td>\n",
       "      <td>-0.029686</td>\n",
       "      <td>-0.191023</td>\n",
       "    </tr>\n",
       "    <tr>\n",
       "      <th>hour</th>\n",
       "      <td>0.000000</td>\n",
       "      <td>5.279248e-20</td>\n",
       "      <td>2.572753e-16</td>\n",
       "      <td>4.791679e+01</td>\n",
       "      <td>7.659391</td>\n",
       "      <td>34.117302</td>\n",
       "      <td>4.817411</td>\n",
       "      <td>-0.719469</td>\n",
       "      <td>-2.266438e+02</td>\n",
       "      <td>114.137547</td>\n",
       "      <td>11.232530</td>\n",
       "      <td>-2.776627</td>\n",
       "      <td>-1.129453</td>\n",
       "      <td>0.072612</td>\n",
       "      <td>1.220714</td>\n",
       "    </tr>\n",
       "    <tr>\n",
       "      <th>PM25</th>\n",
       "      <td>-3.894775</td>\n",
       "      <td>6.368268e+00</td>\n",
       "      <td>1.385157e+01</td>\n",
       "      <td>7.659391e+00</td>\n",
       "      <td>6264.201445</td>\n",
       "      <td>6246.078678</td>\n",
       "      <td>827.528812</td>\n",
       "      <td>1808.241638</td>\n",
       "      <td>6.980690e+04</td>\n",
       "      <td>-629.363811</td>\n",
       "      <td>-116.278185</td>\n",
       "      <td>17.077413</td>\n",
       "      <td>125.091536</td>\n",
       "      <td>-0.951385</td>\n",
       "      <td>-26.056350</td>\n",
       "    </tr>\n",
       "    <tr>\n",
       "      <th>PM10</th>\n",
       "      <td>-4.921624</td>\n",
       "      <td>-6.428711e+00</td>\n",
       "      <td>3.305156e+01</td>\n",
       "      <td>3.411730e+01</td>\n",
       "      <td>6246.078678</td>\n",
       "      <td>8124.570525</td>\n",
       "      <td>901.591444</td>\n",
       "      <td>2018.462615</td>\n",
       "      <td>7.039089e+04</td>\n",
       "      <td>-519.830994</td>\n",
       "      <td>-98.841610</td>\n",
       "      <td>-13.528143</td>\n",
       "      <td>79.962593</td>\n",
       "      <td>-2.063719</td>\n",
       "      <td>-19.423651</td>\n",
       "    </tr>\n",
       "    <tr>\n",
       "      <th>SO2</th>\n",
       "      <td>-4.766863</td>\n",
       "      <td>-1.613945e+01</td>\n",
       "      <td>-1.149304e+00</td>\n",
       "      <td>4.817411e+00</td>\n",
       "      <td>827.528812</td>\n",
       "      <td>901.591444</td>\n",
       "      <td>472.603925</td>\n",
       "      <td>376.870733</td>\n",
       "      <td>1.349618e+04</td>\n",
       "      <td>-200.080521</td>\n",
       "      <td>-81.601798</td>\n",
       "      <td>52.317816</td>\n",
       "      <td>-82.799281</td>\n",
       "      <td>-0.742145</td>\n",
       "      <td>-2.723638</td>\n",
       "    </tr>\n",
       "    <tr>\n",
       "      <th>NO2</th>\n",
       "      <td>-3.127013</td>\n",
       "      <td>6.986111e+00</td>\n",
       "      <td>7.726511e+00</td>\n",
       "      <td>-7.194694e-01</td>\n",
       "      <td>1808.241638</td>\n",
       "      <td>2018.462615</td>\n",
       "      <td>376.870733</td>\n",
       "      <td>1209.085702</td>\n",
       "      <td>2.735005e+04</td>\n",
       "      <td>-934.747727</td>\n",
       "      <td>-111.819966</td>\n",
       "      <td>65.101006</td>\n",
       "      <td>-18.559370</td>\n",
       "      <td>-1.304408</td>\n",
       "      <td>-17.014944</td>\n",
       "    </tr>\n",
       "    <tr>\n",
       "      <th>CO</th>\n",
       "      <td>-27.001809</td>\n",
       "      <td>2.866118e+02</td>\n",
       "      <td>6.506420e+01</td>\n",
       "      <td>-2.266438e+02</td>\n",
       "      <td>69806.904383</td>\n",
       "      <td>70390.887956</td>\n",
       "      <td>13496.184733</td>\n",
       "      <td>27350.052274</td>\n",
       "      <td>1.264018e+06</td>\n",
       "      <td>-19847.719048</td>\n",
       "      <td>-4239.740581</td>\n",
       "      <td>2254.451569</td>\n",
       "      <td>-966.721667</td>\n",
       "      <td>-12.166196</td>\n",
       "      <td>-410.472425</td>\n",
       "    </tr>\n",
       "    <tr>\n",
       "      <th>O3</th>\n",
       "      <td>0.119369</td>\n",
       "      <td>-2.515377e+01</td>\n",
       "      <td>-5.421946e-01</td>\n",
       "      <td>1.141375e+02</td>\n",
       "      <td>-629.363811</td>\n",
       "      <td>-519.830994</td>\n",
       "      <td>-200.080521</td>\n",
       "      <td>-934.747727</td>\n",
       "      <td>-1.984772e+04</td>\n",
       "      <td>3292.001482</td>\n",
       "      <td>389.646318</td>\n",
       "      <td>-267.317914</td>\n",
       "      <td>246.897965</td>\n",
       "      <td>1.094492</td>\n",
       "      <td>21.090142</td>\n",
       "    </tr>\n",
       "    <tr>\n",
       "      <th>TEMP</th>\n",
       "      <td>-0.788428</td>\n",
       "      <td>2.462534e+00</td>\n",
       "      <td>1.160096e+00</td>\n",
       "      <td>1.123253e+01</td>\n",
       "      <td>-116.278185</td>\n",
       "      <td>-98.841610</td>\n",
       "      <td>-81.601798</td>\n",
       "      <td>-111.819966</td>\n",
       "      <td>-4.239741e+03</td>\n",
       "      <td>389.646318</td>\n",
       "      <td>127.769870</td>\n",
       "      <td>-94.536263</td>\n",
       "      <td>125.444151</td>\n",
       "      <td>0.333114</td>\n",
       "      <td>0.584621</td>\n",
       "    </tr>\n",
       "    <tr>\n",
       "      <th>PRES</th>\n",
       "      <td>1.265501</td>\n",
       "      <td>1.991023e+00</td>\n",
       "      <td>2.180249e+00</td>\n",
       "      <td>-2.776627e+00</td>\n",
       "      <td>17.077413</td>\n",
       "      <td>-13.528143</td>\n",
       "      <td>52.317816</td>\n",
       "      <td>65.101006</td>\n",
       "      <td>2.254452e+03</td>\n",
       "      <td>-267.317914</td>\n",
       "      <td>-94.536263</td>\n",
       "      <td>107.262850</td>\n",
       "      <td>-104.581894</td>\n",
       "      <td>-0.516207</td>\n",
       "      <td>0.763602</td>\n",
       "    </tr>\n",
       "    <tr>\n",
       "      <th>DEWP</th>\n",
       "      <td>-1.163555</td>\n",
       "      <td>9.666912e+00</td>\n",
       "      <td>3.030135e+00</td>\n",
       "      <td>-1.129453e+00</td>\n",
       "      <td>125.091536</td>\n",
       "      <td>79.962593</td>\n",
       "      <td>-82.799281</td>\n",
       "      <td>-18.559370</td>\n",
       "      <td>-9.667217e+02</td>\n",
       "      <td>246.897965</td>\n",
       "      <td>125.444151</td>\n",
       "      <td>-104.581894</td>\n",
       "      <td>185.430116</td>\n",
       "      <td>0.974162</td>\n",
       "      <td>-4.962781</td>\n",
       "    </tr>\n",
       "    <tr>\n",
       "      <th>RAIN</th>\n",
       "      <td>0.007258</td>\n",
       "      <td>3.377119e-02</td>\n",
       "      <td>-2.968578e-02</td>\n",
       "      <td>7.261196e-02</td>\n",
       "      <td>-0.951385</td>\n",
       "      <td>-2.063719</td>\n",
       "      <td>-0.742145</td>\n",
       "      <td>-1.304408</td>\n",
       "      <td>-1.216620e+01</td>\n",
       "      <td>1.094492</td>\n",
       "      <td>0.333114</td>\n",
       "      <td>-0.516207</td>\n",
       "      <td>0.974162</td>\n",
       "      <td>0.701984</td>\n",
       "      <td>0.023167</td>\n",
       "    </tr>\n",
       "    <tr>\n",
       "      <th>WSPM</th>\n",
       "      <td>0.106101</td>\n",
       "      <td>-5.659486e-01</td>\n",
       "      <td>-1.910228e-01</td>\n",
       "      <td>1.220714e+00</td>\n",
       "      <td>-26.056350</td>\n",
       "      <td>-19.423651</td>\n",
       "      <td>-2.723638</td>\n",
       "      <td>-17.014944</td>\n",
       "      <td>-4.104724e+02</td>\n",
       "      <td>21.090142</td>\n",
       "      <td>0.584621</td>\n",
       "      <td>0.763602</td>\n",
       "      <td>-4.962781</td>\n",
       "      <td>0.023167</td>\n",
       "      <td>1.532557</td>\n",
       "    </tr>\n",
       "  </tbody>\n",
       "</table>\n",
       "</div>"
      ],
      "text/plain": [
       "            year         month           day          hour          PM25  \\\n",
       "year    1.204513 -3.371506e-01 -1.486417e-02  0.000000e+00     -3.894775   \n",
       "month  -0.337151  1.126595e+01  2.507770e-01  5.279248e-20      6.368268   \n",
       "day    -0.014864  2.507770e-01  7.759657e+01  2.572753e-16     13.851570   \n",
       "hour    0.000000  5.279248e-20  2.572753e-16  4.791679e+01      7.659391   \n",
       "PM25   -3.894775  6.368268e+00  1.385157e+01  7.659391e+00   6264.201445   \n",
       "PM10   -4.921624 -6.428711e+00  3.305156e+01  3.411730e+01   6246.078678   \n",
       "SO2    -4.766863 -1.613945e+01 -1.149304e+00  4.817411e+00    827.528812   \n",
       "NO2    -3.127013  6.986111e+00  7.726511e+00 -7.194694e-01   1808.241638   \n",
       "CO    -27.001809  2.866118e+02  6.506420e+01 -2.266438e+02  69806.904383   \n",
       "O3      0.119369 -2.515377e+01 -5.421946e-01  1.141375e+02   -629.363811   \n",
       "TEMP   -0.788428  2.462534e+00  1.160096e+00  1.123253e+01   -116.278185   \n",
       "PRES    1.265501  1.991023e+00  2.180249e+00 -2.776627e+00     17.077413   \n",
       "DEWP   -1.163555  9.666912e+00  3.030135e+00 -1.129453e+00    125.091536   \n",
       "RAIN    0.007258  3.377119e-02 -2.968578e-02  7.261196e-02     -0.951385   \n",
       "WSPM    0.106101 -5.659486e-01 -1.910228e-01  1.220714e+00    -26.056350   \n",
       "\n",
       "               PM10           SO2           NO2            CO            O3  \\\n",
       "year      -4.921624     -4.766863     -3.127013 -2.700181e+01      0.119369   \n",
       "month     -6.428711    -16.139453      6.986111  2.866118e+02    -25.153771   \n",
       "day       33.051557     -1.149304      7.726511  6.506420e+01     -0.542195   \n",
       "hour      34.117302      4.817411     -0.719469 -2.266438e+02    114.137547   \n",
       "PM25    6246.078678    827.528812   1808.241638  6.980690e+04   -629.363811   \n",
       "PM10    8124.570525    901.591444   2018.462615  7.039089e+04   -519.830994   \n",
       "SO2      901.591444    472.603925    376.870733  1.349618e+04   -200.080521   \n",
       "NO2     2018.462615    376.870733   1209.085702  2.735005e+04   -934.747727   \n",
       "CO     70390.887956  13496.184733  27350.052274  1.264018e+06 -19847.719048   \n",
       "O3      -519.830994   -200.080521   -934.747727 -1.984772e+04   3292.001482   \n",
       "TEMP     -98.841610    -81.601798   -111.819966 -4.239741e+03    389.646318   \n",
       "PRES     -13.528143     52.317816     65.101006  2.254452e+03   -267.317914   \n",
       "DEWP      79.962593    -82.799281    -18.559370 -9.667217e+02    246.897965   \n",
       "RAIN      -2.063719     -0.742145     -1.304408 -1.216620e+01      1.094492   \n",
       "WSPM     -19.423651     -2.723638    -17.014944 -4.104724e+02     21.090142   \n",
       "\n",
       "              TEMP         PRES        DEWP       RAIN        WSPM  \n",
       "year     -0.788428     1.265501   -1.163555   0.007258    0.106101  \n",
       "month     2.462534     1.991023    9.666912   0.033771   -0.565949  \n",
       "day       1.160096     2.180249    3.030135  -0.029686   -0.191023  \n",
       "hour     11.232530    -2.776627   -1.129453   0.072612    1.220714  \n",
       "PM25   -116.278185    17.077413  125.091536  -0.951385  -26.056350  \n",
       "PM10    -98.841610   -13.528143   79.962593  -2.063719  -19.423651  \n",
       "SO2     -81.601798    52.317816  -82.799281  -0.742145   -2.723638  \n",
       "NO2    -111.819966    65.101006  -18.559370  -1.304408  -17.014944  \n",
       "CO    -4239.740581  2254.451569 -966.721667 -12.166196 -410.472425  \n",
       "O3      389.646318  -267.317914  246.897965   1.094492   21.090142  \n",
       "TEMP    127.769870   -94.536263  125.444151   0.333114    0.584621  \n",
       "PRES    -94.536263   107.262850 -104.581894  -0.516207    0.763602  \n",
       "DEWP    125.444151  -104.581894  185.430116   0.974162   -4.962781  \n",
       "RAIN      0.333114    -0.516207    0.974162   0.701984    0.023167  \n",
       "WSPM      0.584621     0.763602   -4.962781   0.023167    1.532557  "
      ]
     },
     "execution_count": 343,
     "metadata": {},
     "output_type": "execute_result"
    }
   ],
   "source": [
    "#Covariance is a measure to indicate the extent to which two random variables change in tandem.\n",
    "#Covariance can vary between -∞ and +∞\n",
    "beijing_master_data.cov()"
   ]
  },
  {
   "cell_type": "markdown",
   "metadata": {
    "id": "VXvEcuNuVJPj"
   },
   "source": [
    "<a name = Section7></a>\n",
    "\n",
    "---\n",
    "# **7. Data Post-Processing**\n",
    "---\n",
    "\n"
   ]
  },
  {
   "cell_type": "markdown",
   "metadata": {
    "id": "BEmZ_S6qVJPj"
   },
   "source": [
    "<a name = Section71></a>\n",
    "### **7.1 Feature Selection**\n",
    "\n",
    "- In this section, we will select feature needed further for preparation"
   ]
  },
  {
   "cell_type": "code",
   "execution_count": 344,
   "metadata": {
    "id": "FCKKbal0EiqJ"
   },
   "outputs": [],
   "source": [
    "# getting y\n",
    "y= beijing_master_data.PM25"
   ]
  },
  {
   "cell_type": "code",
   "execution_count": 345,
   "metadata": {
    "id": "cLeb3IJGEiqK"
   },
   "outputs": [
    {
     "data": {
      "text/html": [
       "<div>\n",
       "<style scoped>\n",
       "    .dataframe tbody tr th:only-of-type {\n",
       "        vertical-align: middle;\n",
       "    }\n",
       "\n",
       "    .dataframe tbody tr th {\n",
       "        vertical-align: top;\n",
       "    }\n",
       "\n",
       "    .dataframe thead th {\n",
       "        text-align: right;\n",
       "    }\n",
       "</style>\n",
       "<table border=\"1\" class=\"dataframe\">\n",
       "  <thead>\n",
       "    <tr style=\"text-align: right;\">\n",
       "      <th></th>\n",
       "      <th>PM10</th>\n",
       "      <th>SO2</th>\n",
       "      <th>NO2</th>\n",
       "      <th>CO</th>\n",
       "      <th>O3</th>\n",
       "      <th>TEMP</th>\n",
       "      <th>PRES</th>\n",
       "      <th>DEWP</th>\n",
       "      <th>WSPM</th>\n",
       "    </tr>\n",
       "    <tr>\n",
       "      <th>REF_NO</th>\n",
       "      <th></th>\n",
       "      <th></th>\n",
       "      <th></th>\n",
       "      <th></th>\n",
       "      <th></th>\n",
       "      <th></th>\n",
       "      <th></th>\n",
       "      <th></th>\n",
       "      <th></th>\n",
       "    </tr>\n",
       "  </thead>\n",
       "  <tbody>\n",
       "    <tr>\n",
       "      <th>1</th>\n",
       "      <td>4.0</td>\n",
       "      <td>4.0</td>\n",
       "      <td>7.0</td>\n",
       "      <td>300.0</td>\n",
       "      <td>77.0</td>\n",
       "      <td>-0.7</td>\n",
       "      <td>1023.0</td>\n",
       "      <td>-18.8</td>\n",
       "      <td>4.4</td>\n",
       "    </tr>\n",
       "    <tr>\n",
       "      <th>2</th>\n",
       "      <td>8.0</td>\n",
       "      <td>4.0</td>\n",
       "      <td>7.0</td>\n",
       "      <td>300.0</td>\n",
       "      <td>77.0</td>\n",
       "      <td>-1.1</td>\n",
       "      <td>1023.2</td>\n",
       "      <td>-18.2</td>\n",
       "      <td>4.7</td>\n",
       "    </tr>\n",
       "    <tr>\n",
       "      <th>3</th>\n",
       "      <td>7.0</td>\n",
       "      <td>5.0</td>\n",
       "      <td>10.0</td>\n",
       "      <td>300.0</td>\n",
       "      <td>73.0</td>\n",
       "      <td>-1.1</td>\n",
       "      <td>1023.5</td>\n",
       "      <td>-18.2</td>\n",
       "      <td>5.6</td>\n",
       "    </tr>\n",
       "    <tr>\n",
       "      <th>4</th>\n",
       "      <td>6.0</td>\n",
       "      <td>11.0</td>\n",
       "      <td>11.0</td>\n",
       "      <td>300.0</td>\n",
       "      <td>72.0</td>\n",
       "      <td>-1.4</td>\n",
       "      <td>1024.5</td>\n",
       "      <td>-19.4</td>\n",
       "      <td>3.1</td>\n",
       "    </tr>\n",
       "    <tr>\n",
       "      <th>5</th>\n",
       "      <td>3.0</td>\n",
       "      <td>12.0</td>\n",
       "      <td>12.0</td>\n",
       "      <td>300.0</td>\n",
       "      <td>72.0</td>\n",
       "      <td>-2.0</td>\n",
       "      <td>1025.2</td>\n",
       "      <td>-19.5</td>\n",
       "      <td>2.0</td>\n",
       "    </tr>\n",
       "  </tbody>\n",
       "</table>\n",
       "</div>"
      ],
      "text/plain": [
       "        PM10   SO2   NO2     CO    O3  TEMP    PRES  DEWP  WSPM\n",
       "REF_NO                                                         \n",
       "1        4.0   4.0   7.0  300.0  77.0  -0.7  1023.0 -18.8   4.4\n",
       "2        8.0   4.0   7.0  300.0  77.0  -1.1  1023.2 -18.2   4.7\n",
       "3        7.0   5.0  10.0  300.0  73.0  -1.1  1023.5 -18.2   5.6\n",
       "4        6.0  11.0  11.0  300.0  72.0  -1.4  1024.5 -19.4   3.1\n",
       "5        3.0  12.0  12.0  300.0  72.0  -2.0  1025.2 -19.5   2.0"
      ]
     },
     "execution_count": 345,
     "metadata": {},
     "output_type": "execute_result"
    }
   ],
   "source": [
    "numerical_features = beijing_master_data[['PM10', 'SO2', 'NO2', 'CO', 'O3', 'TEMP', 'PRES', 'DEWP', 'WSPM']]\n",
    "numerical_features.head()"
   ]
  },
  {
   "cell_type": "code",
   "execution_count": 346,
   "metadata": {
    "id": "0ujLQjrcEiqK"
   },
   "outputs": [
    {
     "data": {
      "text/plain": [
       "(403776, 9)"
      ]
     },
     "execution_count": 346,
     "metadata": {},
     "output_type": "execute_result"
    }
   ],
   "source": [
    "numerical_features.shape"
   ]
  },
  {
   "cell_type": "code",
   "execution_count": 347,
   "metadata": {
    "id": "1E-tvAvl90fM"
   },
   "outputs": [
    {
     "data": {
      "text/html": [
       "<div>\n",
       "<style scoped>\n",
       "    .dataframe tbody tr th:only-of-type {\n",
       "        vertical-align: middle;\n",
       "    }\n",
       "\n",
       "    .dataframe tbody tr th {\n",
       "        vertical-align: top;\n",
       "    }\n",
       "\n",
       "    .dataframe thead th {\n",
       "        text-align: right;\n",
       "    }\n",
       "</style>\n",
       "<table border=\"1\" class=\"dataframe\">\n",
       "  <thead>\n",
       "    <tr style=\"text-align: right;\">\n",
       "      <th></th>\n",
       "      <th>PM10</th>\n",
       "      <th>SO2</th>\n",
       "      <th>NO2</th>\n",
       "      <th>CO</th>\n",
       "      <th>O3</th>\n",
       "      <th>TEMP</th>\n",
       "      <th>PRES</th>\n",
       "      <th>DEWP</th>\n",
       "      <th>WSPM</th>\n",
       "    </tr>\n",
       "    <tr>\n",
       "      <th>REF_NO</th>\n",
       "      <th></th>\n",
       "      <th></th>\n",
       "      <th></th>\n",
       "      <th></th>\n",
       "      <th></th>\n",
       "      <th></th>\n",
       "      <th></th>\n",
       "      <th></th>\n",
       "      <th></th>\n",
       "    </tr>\n",
       "  </thead>\n",
       "  <tbody>\n",
       "    <tr>\n",
       "      <th>33649</th>\n",
       "      <td>496.0</td>\n",
       "      <td>8.0</td>\n",
       "      <td>121.0</td>\n",
       "      <td>6100.0</td>\n",
       "      <td>4.0</td>\n",
       "      <td>-4.7</td>\n",
       "      <td>1022.1</td>\n",
       "      <td>-6.1</td>\n",
       "      <td>1.0</td>\n",
       "    </tr>\n",
       "    <tr>\n",
       "      <th>33650</th>\n",
       "      <td>497.0</td>\n",
       "      <td>7.0</td>\n",
       "      <td>113.0</td>\n",
       "      <td>6300.0</td>\n",
       "      <td>4.0</td>\n",
       "      <td>-5.2</td>\n",
       "      <td>1022.3</td>\n",
       "      <td>-6.4</td>\n",
       "      <td>0.7</td>\n",
       "    </tr>\n",
       "    <tr>\n",
       "      <th>33651</th>\n",
       "      <td>469.0</td>\n",
       "      <td>7.0</td>\n",
       "      <td>111.0</td>\n",
       "      <td>6200.0</td>\n",
       "      <td>4.0</td>\n",
       "      <td>-5.4</td>\n",
       "      <td>1022.5</td>\n",
       "      <td>-6.5</td>\n",
       "      <td>1.1</td>\n",
       "    </tr>\n",
       "    <tr>\n",
       "      <th>33652</th>\n",
       "      <td>425.0</td>\n",
       "      <td>6.0</td>\n",
       "      <td>109.0</td>\n",
       "      <td>5900.0</td>\n",
       "      <td>3.0</td>\n",
       "      <td>-5.2</td>\n",
       "      <td>1022.5</td>\n",
       "      <td>-6.2</td>\n",
       "      <td>1.1</td>\n",
       "    </tr>\n",
       "    <tr>\n",
       "      <th>33653</th>\n",
       "      <td>468.0</td>\n",
       "      <td>10.0</td>\n",
       "      <td>123.0</td>\n",
       "      <td>7700.0</td>\n",
       "      <td>16.0</td>\n",
       "      <td>-5.0</td>\n",
       "      <td>1021.9</td>\n",
       "      <td>-5.8</td>\n",
       "      <td>1.0</td>\n",
       "    </tr>\n",
       "  </tbody>\n",
       "</table>\n",
       "</div>"
      ],
      "text/plain": [
       "         PM10   SO2    NO2      CO    O3  TEMP    PRES  DEWP  WSPM\n",
       "REF_NO                                                            \n",
       "33649   496.0   8.0  121.0  6100.0   4.0  -4.7  1022.1  -6.1   1.0\n",
       "33650   497.0   7.0  113.0  6300.0   4.0  -5.2  1022.3  -6.4   0.7\n",
       "33651   469.0   7.0  111.0  6200.0   4.0  -5.4  1022.5  -6.5   1.1\n",
       "33652   425.0   6.0  109.0  5900.0   3.0  -5.2  1022.5  -6.2   1.1\n",
       "33653   468.0  10.0  123.0  7700.0  16.0  -5.0  1021.9  -5.8   1.0"
      ]
     },
     "execution_count": 347,
     "metadata": {},
     "output_type": "execute_result"
    }
   ],
   "source": [
    "test_numerical_features = beijing_test_data[['PM10', 'SO2', 'NO2', 'CO', 'O3', 'TEMP', 'PRES', 'DEWP', 'WSPM']]\n",
    "test_numerical_features.head()"
   ]
  },
  {
   "cell_type": "code",
   "execution_count": 348,
   "metadata": {
    "id": "BFWisZ6A90fM"
   },
   "outputs": [
    {
     "data": {
      "text/plain": [
       "(16728, 9)"
      ]
     },
     "execution_count": 348,
     "metadata": {},
     "output_type": "execute_result"
    }
   ],
   "source": [
    "test_numerical_features.shape"
   ]
  },
  {
   "cell_type": "markdown",
   "metadata": {
    "id": "VTDUtk4ZE9NQ"
   },
   "source": [
    "<a name = Section72></a>\n",
    "### **7.2 Data Preparation**\n",
    "\n",
    "- Now we will **split** our **data** into **dependent** and **independent** variables for further development using holdout validation technique."
   ]
  },
  {
   "cell_type": "code",
   "execution_count": 349,
   "metadata": {
    "id": "5J3OJTe-E9st",
    "scrolled": false
   },
   "outputs": [
    {
     "name": "stdout",
     "output_type": "stream",
     "text": [
      "X_train shape:  (302832, 9)\n",
      "y_train shape:  (302832,)\n",
      "X_test shape:  (100944, 9)\n",
      "y_test shape:  (100944,)\n",
      "<class 'pandas.core.frame.DataFrame'>\n",
      "Int64Index: 302832 entries, 10517 to 21015\n",
      "Data columns (total 9 columns):\n",
      " #   Column  Non-Null Count   Dtype  \n",
      "---  ------  --------------   -----  \n",
      " 0   PM10    298169 non-null  float64\n",
      " 1   SO2     296288 non-null  float64\n",
      " 2   NO2     294042 non-null  float64\n",
      " 3   CO      287680 non-null  float64\n",
      " 4   O3      293068 non-null  float64\n",
      " 5   TEMP    302640 non-null  float64\n",
      " 6   PRES    302639 non-null  float64\n",
      " 7   DEWP    302636 non-null  float64\n",
      " 8   WSPM    302663 non-null  float64\n",
      "dtypes: float64(9)\n",
      "memory usage: 23.1 MB\n"
     ]
    },
    {
     "data": {
      "text/html": [
       "<div>\n",
       "<style scoped>\n",
       "    .dataframe tbody tr th:only-of-type {\n",
       "        vertical-align: middle;\n",
       "    }\n",
       "\n",
       "    .dataframe tbody tr th {\n",
       "        vertical-align: top;\n",
       "    }\n",
       "\n",
       "    .dataframe thead th {\n",
       "        text-align: right;\n",
       "    }\n",
       "</style>\n",
       "<table border=\"1\" class=\"dataframe\">\n",
       "  <thead>\n",
       "    <tr style=\"text-align: right;\">\n",
       "      <th></th>\n",
       "      <th>PM10</th>\n",
       "      <th>SO2</th>\n",
       "      <th>NO2</th>\n",
       "      <th>CO</th>\n",
       "      <th>O3</th>\n",
       "      <th>TEMP</th>\n",
       "      <th>PRES</th>\n",
       "      <th>DEWP</th>\n",
       "      <th>WSPM</th>\n",
       "    </tr>\n",
       "    <tr>\n",
       "      <th>REF_NO</th>\n",
       "      <th></th>\n",
       "      <th></th>\n",
       "      <th></th>\n",
       "      <th></th>\n",
       "      <th></th>\n",
       "      <th></th>\n",
       "      <th></th>\n",
       "      <th></th>\n",
       "      <th></th>\n",
       "    </tr>\n",
       "  </thead>\n",
       "  <tbody>\n",
       "    <tr>\n",
       "      <th>10517</th>\n",
       "      <td>114.0</td>\n",
       "      <td>15.0</td>\n",
       "      <td>72.0</td>\n",
       "      <td>700.0</td>\n",
       "      <td>35.0000</td>\n",
       "      <td>13.3</td>\n",
       "      <td>995.0</td>\n",
       "      <td>12.5</td>\n",
       "      <td>0.7</td>\n",
       "    </tr>\n",
       "    <tr>\n",
       "      <th>16150</th>\n",
       "      <td>127.0</td>\n",
       "      <td>41.0</td>\n",
       "      <td>92.0</td>\n",
       "      <td>1800.0</td>\n",
       "      <td>3.0000</td>\n",
       "      <td>-4.0</td>\n",
       "      <td>1022.0</td>\n",
       "      <td>-15.0</td>\n",
       "      <td>0.9</td>\n",
       "    </tr>\n",
       "    <tr>\n",
       "      <th>26706</th>\n",
       "      <td>301.0</td>\n",
       "      <td>41.0</td>\n",
       "      <td>48.0</td>\n",
       "      <td>1600.0</td>\n",
       "      <td>156.0000</td>\n",
       "      <td>16.7</td>\n",
       "      <td>1000.9</td>\n",
       "      <td>2.7</td>\n",
       "      <td>2.2</td>\n",
       "    </tr>\n",
       "    <tr>\n",
       "      <th>20</th>\n",
       "      <td>17.0</td>\n",
       "      <td>12.0</td>\n",
       "      <td>42.0</td>\n",
       "      <td>600.0</td>\n",
       "      <td>63.0000</td>\n",
       "      <td>3.0</td>\n",
       "      <td>1030.1</td>\n",
       "      <td>-19.7</td>\n",
       "      <td>1.1</td>\n",
       "    </tr>\n",
       "    <tr>\n",
       "      <th>6379</th>\n",
       "      <td>152.0</td>\n",
       "      <td>19.0</td>\n",
       "      <td>111.0</td>\n",
       "      <td>2000.0</td>\n",
       "      <td>1.7136</td>\n",
       "      <td>7.6</td>\n",
       "      <td>1021.6</td>\n",
       "      <td>-7.7</td>\n",
       "      <td>2.0</td>\n",
       "    </tr>\n",
       "  </tbody>\n",
       "</table>\n",
       "</div>"
      ],
      "text/plain": [
       "         PM10   SO2    NO2      CO        O3  TEMP    PRES  DEWP  WSPM\n",
       "REF_NO                                                                \n",
       "10517   114.0  15.0   72.0   700.0   35.0000  13.3   995.0  12.5   0.7\n",
       "16150   127.0  41.0   92.0  1800.0    3.0000  -4.0  1022.0 -15.0   0.9\n",
       "26706   301.0  41.0   48.0  1600.0  156.0000  16.7  1000.9   2.7   2.2\n",
       "20       17.0  12.0   42.0   600.0   63.0000   3.0  1030.1 -19.7   1.1\n",
       "6379    152.0  19.0  111.0  2000.0    1.7136   7.6  1021.6  -7.7   2.0"
      ]
     },
     "execution_count": 349,
     "metadata": {},
     "output_type": "execute_result"
    }
   ],
   "source": [
    "# Splitting data into training and testing sets with using Validation Test Data as 25%\n",
    "X_train, X_test, y_train, y_test = train_test_split(numerical_features, y, test_size=0.25, random_state=42)\n",
    "\n",
    "# Display the shape of training and testing data\n",
    "print('X_train shape: ', X_train.shape)\n",
    "print('y_train shape: ', y_train.shape)\n",
    "print('X_test shape: ', X_test.shape)\n",
    "print('y_test shape: ', y_test.shape)\n",
    "X_train.info()\n",
    "#X_train.columns\n",
    "X_train.head()"
   ]
  },
  {
   "cell_type": "code",
   "execution_count": 350,
   "metadata": {},
   "outputs": [
    {
     "data": {
      "text/plain": [
       "True"
      ]
     },
     "execution_count": 350,
     "metadata": {},
     "output_type": "execute_result"
    }
   ],
   "source": [
    "any(y_train.isnull())"
   ]
  },
  {
   "cell_type": "code",
   "execution_count": 351,
   "metadata": {},
   "outputs": [],
   "source": [
    "y_train_new= y_train.fillna(y_train.mean())"
   ]
  },
  {
   "cell_type": "code",
   "execution_count": 352,
   "metadata": {},
   "outputs": [
    {
     "data": {
      "text/plain": [
       "True"
      ]
     },
     "execution_count": 352,
     "metadata": {},
     "output_type": "execute_result"
    }
   ],
   "source": [
    "any(y_test.isnull())"
   ]
  },
  {
   "cell_type": "code",
   "execution_count": 353,
   "metadata": {},
   "outputs": [],
   "source": [
    "y_test_new= y_test.fillna(y_test.mean())"
   ]
  },
  {
   "cell_type": "code",
   "execution_count": 354,
   "metadata": {},
   "outputs": [],
   "source": [
    "# # Define the imputer\n",
    "from sklearn.impute import SimpleImputer\n",
    "# # Retrieve the numpy array\n",
    "train_values = X_train.values\n",
    "#train_values"
   ]
  },
  {
   "cell_type": "code",
   "execution_count": 355,
   "metadata": {},
   "outputs": [],
   "source": [
    "test_values = X_test.values\n",
    "#test_values"
   ]
  },
  {
   "cell_type": "code",
   "execution_count": 356,
   "metadata": {},
   "outputs": [],
   "source": [
    "imputer = SimpleImputer(missing_values=np.nan, strategy='median')\n",
    "\n",
    "# # Transform the x train dataset\n",
    "train_transformed_values= imputer.fit_transform(train_values)\n",
    "#train_transformed_values"
   ]
  },
  {
   "cell_type": "code",
   "execution_count": 357,
   "metadata": {},
   "outputs": [],
   "source": [
    "# # # Transform the y train dataset\n",
    "test_transformed_values= imputer.transform(test_values)\n",
    "#test_transformed_values"
   ]
  },
  {
   "cell_type": "code",
   "execution_count": 358,
   "metadata": {},
   "outputs": [
    {
     "data": {
      "text/html": [
       "<div>\n",
       "<style scoped>\n",
       "    .dataframe tbody tr th:only-of-type {\n",
       "        vertical-align: middle;\n",
       "    }\n",
       "\n",
       "    .dataframe tbody tr th {\n",
       "        vertical-align: top;\n",
       "    }\n",
       "\n",
       "    .dataframe thead th {\n",
       "        text-align: right;\n",
       "    }\n",
       "</style>\n",
       "<table border=\"1\" class=\"dataframe\">\n",
       "  <thead>\n",
       "    <tr style=\"text-align: right;\">\n",
       "      <th></th>\n",
       "      <th>PM10</th>\n",
       "      <th>SO2</th>\n",
       "      <th>NO2</th>\n",
       "      <th>CO</th>\n",
       "      <th>O3</th>\n",
       "      <th>TEMP</th>\n",
       "      <th>PRES</th>\n",
       "      <th>DEWP</th>\n",
       "      <th>WSPM</th>\n",
       "    </tr>\n",
       "  </thead>\n",
       "  <tbody>\n",
       "    <tr>\n",
       "      <th>10517</th>\n",
       "      <td>114.0</td>\n",
       "      <td>15.0</td>\n",
       "      <td>72.0</td>\n",
       "      <td>700.0</td>\n",
       "      <td>35.0000</td>\n",
       "      <td>13.3</td>\n",
       "      <td>995.0</td>\n",
       "      <td>12.5</td>\n",
       "      <td>0.7</td>\n",
       "    </tr>\n",
       "    <tr>\n",
       "      <th>16150</th>\n",
       "      <td>127.0</td>\n",
       "      <td>41.0</td>\n",
       "      <td>92.0</td>\n",
       "      <td>1800.0</td>\n",
       "      <td>3.0000</td>\n",
       "      <td>-4.0</td>\n",
       "      <td>1022.0</td>\n",
       "      <td>-15.0</td>\n",
       "      <td>0.9</td>\n",
       "    </tr>\n",
       "    <tr>\n",
       "      <th>26706</th>\n",
       "      <td>301.0</td>\n",
       "      <td>41.0</td>\n",
       "      <td>48.0</td>\n",
       "      <td>1600.0</td>\n",
       "      <td>156.0000</td>\n",
       "      <td>16.7</td>\n",
       "      <td>1000.9</td>\n",
       "      <td>2.7</td>\n",
       "      <td>2.2</td>\n",
       "    </tr>\n",
       "    <tr>\n",
       "      <th>20</th>\n",
       "      <td>17.0</td>\n",
       "      <td>12.0</td>\n",
       "      <td>42.0</td>\n",
       "      <td>600.0</td>\n",
       "      <td>63.0000</td>\n",
       "      <td>3.0</td>\n",
       "      <td>1030.1</td>\n",
       "      <td>-19.7</td>\n",
       "      <td>1.1</td>\n",
       "    </tr>\n",
       "    <tr>\n",
       "      <th>6379</th>\n",
       "      <td>152.0</td>\n",
       "      <td>19.0</td>\n",
       "      <td>111.0</td>\n",
       "      <td>2000.0</td>\n",
       "      <td>1.7136</td>\n",
       "      <td>7.6</td>\n",
       "      <td>1021.6</td>\n",
       "      <td>-7.7</td>\n",
       "      <td>2.0</td>\n",
       "    </tr>\n",
       "    <tr>\n",
       "      <th>21970</th>\n",
       "      <td>16.0</td>\n",
       "      <td>2.0</td>\n",
       "      <td>23.0</td>\n",
       "      <td>600.0</td>\n",
       "      <td>33.0000</td>\n",
       "      <td>24.0</td>\n",
       "      <td>1010.1</td>\n",
       "      <td>16.8</td>\n",
       "      <td>1.3</td>\n",
       "    </tr>\n",
       "    <tr>\n",
       "      <th>30012</th>\n",
       "      <td>21.0</td>\n",
       "      <td>2.0</td>\n",
       "      <td>21.0</td>\n",
       "      <td>600.0</td>\n",
       "      <td>103.0000</td>\n",
       "      <td>31.4</td>\n",
       "      <td>1006.5</td>\n",
       "      <td>20.7</td>\n",
       "      <td>3.2</td>\n",
       "    </tr>\n",
       "    <tr>\n",
       "      <th>15670</th>\n",
       "      <td>136.0</td>\n",
       "      <td>35.0</td>\n",
       "      <td>91.0</td>\n",
       "      <td>1400.0</td>\n",
       "      <td>2.0000</td>\n",
       "      <td>-1.6</td>\n",
       "      <td>1029.0</td>\n",
       "      <td>-14.1</td>\n",
       "      <td>0.9</td>\n",
       "    </tr>\n",
       "    <tr>\n",
       "      <th>1822</th>\n",
       "      <td>131.0</td>\n",
       "      <td>32.0</td>\n",
       "      <td>39.0</td>\n",
       "      <td>800.0</td>\n",
       "      <td>129.0000</td>\n",
       "      <td>21.5</td>\n",
       "      <td>1011.5</td>\n",
       "      <td>9.1</td>\n",
       "      <td>4.1</td>\n",
       "    </tr>\n",
       "    <tr>\n",
       "      <th>31922</th>\n",
       "      <td>39.0</td>\n",
       "      <td>2.0</td>\n",
       "      <td>57.0</td>\n",
       "      <td>700.0</td>\n",
       "      <td>5.0000</td>\n",
       "      <td>11.0</td>\n",
       "      <td>1017.7</td>\n",
       "      <td>8.9</td>\n",
       "      <td>1.5</td>\n",
       "    </tr>\n",
       "  </tbody>\n",
       "</table>\n",
       "</div>"
      ],
      "text/plain": [
       "        PM10   SO2    NO2      CO        O3  TEMP    PRES  DEWP  WSPM\n",
       "10517  114.0  15.0   72.0   700.0   35.0000  13.3   995.0  12.5   0.7\n",
       "16150  127.0  41.0   92.0  1800.0    3.0000  -4.0  1022.0 -15.0   0.9\n",
       "26706  301.0  41.0   48.0  1600.0  156.0000  16.7  1000.9   2.7   2.2\n",
       "20      17.0  12.0   42.0   600.0   63.0000   3.0  1030.1 -19.7   1.1\n",
       "6379   152.0  19.0  111.0  2000.0    1.7136   7.6  1021.6  -7.7   2.0\n",
       "21970   16.0   2.0   23.0   600.0   33.0000  24.0  1010.1  16.8   1.3\n",
       "30012   21.0   2.0   21.0   600.0  103.0000  31.4  1006.5  20.7   3.2\n",
       "15670  136.0  35.0   91.0  1400.0    2.0000  -1.6  1029.0 -14.1   0.9\n",
       "1822   131.0  32.0   39.0   800.0  129.0000  21.5  1011.5   9.1   4.1\n",
       "31922   39.0   2.0   57.0   700.0    5.0000  11.0  1017.7   8.9   1.5"
      ]
     },
     "execution_count": 358,
     "metadata": {},
     "output_type": "execute_result"
    }
   ],
   "source": [
    "X_train_new = pd.DataFrame(data=train_transformed_values, index=X_train.index.to_list(), columns=X_train.columns)\n",
    "\n",
    "X_train_new.head(10)"
   ]
  },
  {
   "cell_type": "code",
   "execution_count": 359,
   "metadata": {},
   "outputs": [
    {
     "data": {
      "text/plain": [
       "False"
      ]
     },
     "execution_count": 359,
     "metadata": {},
     "output_type": "execute_result"
    }
   ],
   "source": [
    "# # Check for any missing values\n",
    "any(X_train_new.isna().sum())"
   ]
  },
  {
   "cell_type": "code",
   "execution_count": 360,
   "metadata": {},
   "outputs": [
    {
     "name": "stdout",
     "output_type": "stream",
     "text": [
      "<class 'pandas.core.frame.DataFrame'>\n",
      "Int64Index: 302832 entries, 10517 to 21015\n",
      "Data columns (total 9 columns):\n",
      " #   Column  Non-Null Count   Dtype  \n",
      "---  ------  --------------   -----  \n",
      " 0   PM10    302832 non-null  float64\n",
      " 1   SO2     302832 non-null  float64\n",
      " 2   NO2     302832 non-null  float64\n",
      " 3   CO      302832 non-null  float64\n",
      " 4   O3      302832 non-null  float64\n",
      " 5   TEMP    302832 non-null  float64\n",
      " 6   PRES    302832 non-null  float64\n",
      " 7   DEWP    302832 non-null  float64\n",
      " 8   WSPM    302832 non-null  float64\n",
      "dtypes: float64(9)\n",
      "memory usage: 23.1 MB\n"
     ]
    }
   ],
   "source": [
    "X_train_new.info()"
   ]
  },
  {
   "cell_type": "code",
   "execution_count": 361,
   "metadata": {},
   "outputs": [
    {
     "data": {
      "text/html": [
       "<div>\n",
       "<style scoped>\n",
       "    .dataframe tbody tr th:only-of-type {\n",
       "        vertical-align: middle;\n",
       "    }\n",
       "\n",
       "    .dataframe tbody tr th {\n",
       "        vertical-align: top;\n",
       "    }\n",
       "\n",
       "    .dataframe thead th {\n",
       "        text-align: right;\n",
       "    }\n",
       "</style>\n",
       "<table border=\"1\" class=\"dataframe\">\n",
       "  <thead>\n",
       "    <tr style=\"text-align: right;\">\n",
       "      <th></th>\n",
       "      <th>PM10</th>\n",
       "      <th>SO2</th>\n",
       "      <th>NO2</th>\n",
       "      <th>CO</th>\n",
       "      <th>O3</th>\n",
       "      <th>TEMP</th>\n",
       "      <th>PRES</th>\n",
       "      <th>DEWP</th>\n",
       "      <th>WSPM</th>\n",
       "    </tr>\n",
       "  </thead>\n",
       "  <tbody>\n",
       "    <tr>\n",
       "      <th>27466</th>\n",
       "      <td>53.0</td>\n",
       "      <td>3.0</td>\n",
       "      <td>7.0</td>\n",
       "      <td>300.0</td>\n",
       "      <td>80.0</td>\n",
       "      <td>14.3</td>\n",
       "      <td>1004.6</td>\n",
       "      <td>-7.2</td>\n",
       "      <td>2.3</td>\n",
       "    </tr>\n",
       "    <tr>\n",
       "      <th>25918</th>\n",
       "      <td>6.0</td>\n",
       "      <td>2.0</td>\n",
       "      <td>9.0</td>\n",
       "      <td>200.0</td>\n",
       "      <td>68.0</td>\n",
       "      <td>-3.4</td>\n",
       "      <td>1027.3</td>\n",
       "      <td>-20.7</td>\n",
       "      <td>6.3</td>\n",
       "    </tr>\n",
       "    <tr>\n",
       "      <th>18990</th>\n",
       "      <td>182.0</td>\n",
       "      <td>12.0</td>\n",
       "      <td>55.0</td>\n",
       "      <td>900.0</td>\n",
       "      <td>71.0</td>\n",
       "      <td>19.2</td>\n",
       "      <td>1000.3</td>\n",
       "      <td>14.2</td>\n",
       "      <td>0.4</td>\n",
       "    </tr>\n",
       "    <tr>\n",
       "      <th>12020</th>\n",
       "      <td>58.0</td>\n",
       "      <td>7.0</td>\n",
       "      <td>37.0</td>\n",
       "      <td>800.0</td>\n",
       "      <td>207.0</td>\n",
       "      <td>30.0</td>\n",
       "      <td>995.8</td>\n",
       "      <td>15.3</td>\n",
       "      <td>2.0</td>\n",
       "    </tr>\n",
       "    <tr>\n",
       "      <th>27927</th>\n",
       "      <td>30.0</td>\n",
       "      <td>2.0</td>\n",
       "      <td>15.0</td>\n",
       "      <td>300.0</td>\n",
       "      <td>123.0</td>\n",
       "      <td>25.9</td>\n",
       "      <td>1012.8</td>\n",
       "      <td>-6.9</td>\n",
       "      <td>2.0</td>\n",
       "    </tr>\n",
       "    <tr>\n",
       "      <th>15441</th>\n",
       "      <td>82.0</td>\n",
       "      <td>7.0</td>\n",
       "      <td>43.0</td>\n",
       "      <td>900.0</td>\n",
       "      <td>45.0</td>\n",
       "      <td>-4.0</td>\n",
       "      <td>1024.0</td>\n",
       "      <td>-24.3</td>\n",
       "      <td>1.8</td>\n",
       "    </tr>\n",
       "    <tr>\n",
       "      <th>510</th>\n",
       "      <td>6.0</td>\n",
       "      <td>3.0</td>\n",
       "      <td>11.0</td>\n",
       "      <td>500.0</td>\n",
       "      <td>72.0</td>\n",
       "      <td>2.4</td>\n",
       "      <td>1008.8</td>\n",
       "      <td>-10.5</td>\n",
       "      <td>0.0</td>\n",
       "    </tr>\n",
       "    <tr>\n",
       "      <th>4770</th>\n",
       "      <td>54.0</td>\n",
       "      <td>1.0</td>\n",
       "      <td>31.0</td>\n",
       "      <td>800.0</td>\n",
       "      <td>86.0</td>\n",
       "      <td>23.6</td>\n",
       "      <td>1008.3</td>\n",
       "      <td>8.8</td>\n",
       "      <td>1.4</td>\n",
       "    </tr>\n",
       "    <tr>\n",
       "      <th>8134</th>\n",
       "      <td>10.0</td>\n",
       "      <td>9.0</td>\n",
       "      <td>15.0</td>\n",
       "      <td>500.0</td>\n",
       "      <td>71.0</td>\n",
       "      <td>2.2</td>\n",
       "      <td>1013.1</td>\n",
       "      <td>-25.3</td>\n",
       "      <td>1.8</td>\n",
       "    </tr>\n",
       "    <tr>\n",
       "      <th>23962</th>\n",
       "      <td>82.0</td>\n",
       "      <td>7.0</td>\n",
       "      <td>43.0</td>\n",
       "      <td>900.0</td>\n",
       "      <td>45.0</td>\n",
       "      <td>-6.3</td>\n",
       "      <td>1037.0</td>\n",
       "      <td>-14.3</td>\n",
       "      <td>1.3</td>\n",
       "    </tr>\n",
       "  </tbody>\n",
       "</table>\n",
       "</div>"
      ],
      "text/plain": [
       "        PM10   SO2   NO2     CO     O3  TEMP    PRES  DEWP  WSPM\n",
       "27466   53.0   3.0   7.0  300.0   80.0  14.3  1004.6  -7.2   2.3\n",
       "25918    6.0   2.0   9.0  200.0   68.0  -3.4  1027.3 -20.7   6.3\n",
       "18990  182.0  12.0  55.0  900.0   71.0  19.2  1000.3  14.2   0.4\n",
       "12020   58.0   7.0  37.0  800.0  207.0  30.0   995.8  15.3   2.0\n",
       "27927   30.0   2.0  15.0  300.0  123.0  25.9  1012.8  -6.9   2.0\n",
       "15441   82.0   7.0  43.0  900.0   45.0  -4.0  1024.0 -24.3   1.8\n",
       "510      6.0   3.0  11.0  500.0   72.0   2.4  1008.8 -10.5   0.0\n",
       "4770    54.0   1.0  31.0  800.0   86.0  23.6  1008.3   8.8   1.4\n",
       "8134    10.0   9.0  15.0  500.0   71.0   2.2  1013.1 -25.3   1.8\n",
       "23962   82.0   7.0  43.0  900.0   45.0  -6.3  1037.0 -14.3   1.3"
      ]
     },
     "execution_count": 361,
     "metadata": {},
     "output_type": "execute_result"
    }
   ],
   "source": [
    "X_test_new = pd.DataFrame(data=test_transformed_values, index=X_test.index.to_list(), columns=X_test.columns)\n",
    "\n",
    "X_test_new.head(10)"
   ]
  },
  {
   "cell_type": "code",
   "execution_count": 362,
   "metadata": {},
   "outputs": [
    {
     "name": "stdout",
     "output_type": "stream",
     "text": [
      "<class 'pandas.core.frame.DataFrame'>\n",
      "Int64Index: 100944 entries, 27466 to 25608\n",
      "Data columns (total 9 columns):\n",
      " #   Column  Non-Null Count   Dtype  \n",
      "---  ------  --------------   -----  \n",
      " 0   PM10    100944 non-null  float64\n",
      " 1   SO2     100944 non-null  float64\n",
      " 2   NO2     100944 non-null  float64\n",
      " 3   CO      100944 non-null  float64\n",
      " 4   O3      100944 non-null  float64\n",
      " 5   TEMP    100944 non-null  float64\n",
      " 6   PRES    100944 non-null  float64\n",
      " 7   DEWP    100944 non-null  float64\n",
      " 8   WSPM    100944 non-null  float64\n",
      "dtypes: float64(9)\n",
      "memory usage: 7.7 MB\n"
     ]
    }
   ],
   "source": [
    "X_test_new.info()"
   ]
  },
  {
   "cell_type": "code",
   "execution_count": 363,
   "metadata": {},
   "outputs": [
    {
     "data": {
      "text/plain": [
       "0"
      ]
     },
     "execution_count": 363,
     "metadata": {},
     "output_type": "execute_result"
    }
   ],
   "source": [
    "y_train_new.isna().sum()"
   ]
  },
  {
   "cell_type": "code",
   "execution_count": 364,
   "metadata": {},
   "outputs": [
    {
     "data": {
      "text/plain": [
       "(302832,)"
      ]
     },
     "execution_count": 364,
     "metadata": {},
     "output_type": "execute_result"
    }
   ],
   "source": [
    "y_train_new.shape"
   ]
  },
  {
   "cell_type": "code",
   "execution_count": 365,
   "metadata": {},
   "outputs": [
    {
     "data": {
      "text/plain": [
       "0"
      ]
     },
     "execution_count": 365,
     "metadata": {},
     "output_type": "execute_result"
    }
   ],
   "source": [
    "y_test_new.isna().sum()"
   ]
  },
  {
   "cell_type": "code",
   "execution_count": 366,
   "metadata": {},
   "outputs": [
    {
     "data": {
      "text/plain": [
       "(100944,)"
      ]
     },
     "execution_count": 366,
     "metadata": {},
     "output_type": "execute_result"
    }
   ],
   "source": [
    "y_test_new.shape"
   ]
  },
  {
   "cell_type": "markdown",
   "metadata": {
    "id": "oW7xFVEiEitF"
   },
   "source": [
    "<a name = Section73></a>\n",
    "### **7.3 Data Scaling**\n",
    "\n",
    "- Here we can try various scaling options available to arrive at best option\n",
    "- Here I have decided to not do scaling as of now after trying with different scaling options"
   ]
  },
  {
   "cell_type": "code",
   "execution_count": null,
   "metadata": {},
   "outputs": [],
   "source": []
  },
  {
   "cell_type": "code",
   "execution_count": 367,
   "metadata": {
    "id": "oHzc0udYEitG"
   },
   "outputs": [],
   "source": [
    "# #Scaling the X part of data\n",
    "# from sklearn.preprocessing import StandardScaler\n",
    "# scalar=StandardScaler() # defining object\n",
    "# scalar.fit(X_train) #defining the scal\n",
    "# X_train_s=scalar.transform(X_train)#actual scaling\n",
    "# X_test_s=scalar.transform(X_test)\n",
    "\n",
    "# test_numerical_features_s = scalar.transform(test_numerical_features)\n"
   ]
  },
  {
   "cell_type": "markdown",
   "metadata": {
    "id": "K-mvuWsNFAYJ"
   },
   "source": [
    "<a name = Section8></a>\n",
    "\n",
    "---\n",
    "# **8. Model Development & Evaluation**\n",
    "---\n",
    "\n",
    "- In this section we will **develop a Linear Regression model**\n",
    "\n",
    "- Then we will **analyze the results** obtained and **make our observations**.\n",
    "\n",
    "- For **evaluation purpose** we will **focus** on **RMSE Score** score as required by this project."
   ]
  },
  {
   "cell_type": "markdown",
   "metadata": {
    "id": "susmBGv8TOPl"
   },
   "source": [
    "<a name = Section81></a>\n",
    "### **8.1 Baseline Model Development & Evaluation**\n",
    "\n",
    "- Here we will develop Linear Regression classification model using default setting."
   ]
  },
  {
   "cell_type": "code",
   "execution_count": 368,
   "metadata": {
    "id": "aA5BQH1tE9pR"
   },
   "outputs": [],
   "source": [
    "from sklearn.linear_model import LinearRegression\n",
    "linreg=LinearRegression()\n",
    "#linreg.fit(X_train_s, y_train) \n",
    "#y_pred_train_lg=linreg.predict(X_train_s)\n",
    "#y_pred_test_lg=linreg.predict(X_test_s)\n",
    "\n",
    "linreg.fit(X_train_new, y_train_new) \n",
    "y_pred_train_lg=linreg.predict(X_train_new)\n",
    "y_pred_test_lg=linreg.predict(X_test_new)"
   ]
  },
  {
   "cell_type": "code",
   "execution_count": 369,
   "metadata": {
    "id": "EkNCXm8eEitH"
   },
   "outputs": [],
   "source": [
    "from sklearn.metrics import mean_absolute_error, mean_squared_error\n",
    "MAE_train = mean_absolute_error(y_train_new, y_pred_train_lg)\n",
    "MAE_test = mean_absolute_error(y_test_new, y_pred_test_lg)"
   ]
  },
  {
   "cell_type": "code",
   "execution_count": 370,
   "metadata": {
    "id": "ShNKXCKaHsfB"
   },
   "outputs": [
    {
     "name": "stdout",
     "output_type": "stream",
     "text": [
      "MAE for training set is 20.91002589289202\n",
      "MAE for test set is 20.906680158674362\n"
     ]
    }
   ],
   "source": [
    "print('MAE for training set is {}'.format(MAE_train))\n",
    "print('MAE for test set is {}'.format(MAE_test))"
   ]
  },
  {
   "cell_type": "code",
   "execution_count": 371,
   "metadata": {
    "id": "CJVefSM9EitI"
   },
   "outputs": [],
   "source": [
    "MSE_train = mean_squared_error(y_train_new, y_pred_train_lg)\n",
    "MSE_test = mean_squared_error(y_test_new, y_pred_test_lg)"
   ]
  },
  {
   "cell_type": "code",
   "execution_count": 372,
   "metadata": {},
   "outputs": [
    {
     "name": "stdout",
     "output_type": "stream",
     "text": [
      "MSE for training set is 1025.0677265029115\n",
      "MSE for test set is 1018.5295074152838\n"
     ]
    }
   ],
   "source": [
    "print('MSE for training set is {}'.format(MSE_train))\n",
    "print('MSE for test set is {}'.format(MSE_test))"
   ]
  },
  {
   "cell_type": "code",
   "execution_count": 373,
   "metadata": {},
   "outputs": [],
   "source": [
    "RMSE_train = np.sqrt( mean_squared_error(y_train_new, y_pred_train_lg))\n",
    "RMSE_test = np.sqrt(mean_squared_error(y_test_new, y_pred_test_lg))"
   ]
  },
  {
   "cell_type": "code",
   "execution_count": 374,
   "metadata": {},
   "outputs": [
    {
     "name": "stdout",
     "output_type": "stream",
     "text": [
      "RMSE for training set is 32.01667887996679\n",
      "RMSE for test set is 31.91440908767204\n"
     ]
    }
   ],
   "source": [
    "print('RMSE for training set is {}'.format(RMSE_train))\n",
    "print('RMSE for test set is {}'.format(RMSE_test))"
   ]
  },
  {
   "cell_type": "code",
   "execution_count": 375,
   "metadata": {},
   "outputs": [],
   "source": [
    "from sklearn.metrics import r2_score\n",
    "r2_score_train = r2_score(y_train_new, y_pred_train_lg)\n",
    "r2_score_test = r2_score(y_test_new, y_pred_test_lg)"
   ]
  },
  {
   "cell_type": "code",
   "execution_count": 376,
   "metadata": {},
   "outputs": [
    {
     "data": {
      "text/plain": [
       "0.8328142447068044"
      ]
     },
     "execution_count": 376,
     "metadata": {},
     "output_type": "execute_result"
    }
   ],
   "source": [
    "r2_score_train"
   ]
  },
  {
   "cell_type": "code",
   "execution_count": 377,
   "metadata": {},
   "outputs": [
    {
     "data": {
      "text/plain": [
       "0.834029483397603"
      ]
     },
     "execution_count": 377,
     "metadata": {},
     "output_type": "execute_result"
    }
   ],
   "source": [
    "r2_score_test"
   ]
  },
  {
   "cell_type": "code",
   "execution_count": 378,
   "metadata": {},
   "outputs": [
    {
     "name": "stdout",
     "output_type": "stream",
     "text": [
      "0.8328142447068556 0.8328092758743479\n"
     ]
    }
   ],
   "source": [
    "yhat = linreg.predict(X_train_new)\n",
    "SS_Residual = sum((y_train_new-yhat)**2)\n",
    "SS_Total = sum((y_train_new-np.mean(y_train_new))**2)\n",
    "r_squared = 1 - (float(SS_Residual))/SS_Total\n",
    "adjusted_r_squared = 1 - (1-r_squared)*(len(y_train_new)-1)/(len(y_train_new)-X_train_new.shape[1]-1)\n",
    "print(r_squared, adjusted_r_squared)"
   ]
  },
  {
   "cell_type": "code",
   "execution_count": 379,
   "metadata": {},
   "outputs": [
    {
     "name": "stdout",
     "output_type": "stream",
     "text": [
      "0.8340294833976006 0.8340146842749123\n"
     ]
    }
   ],
   "source": [
    "yhat = linreg.predict(X_test_new)\n",
    "SS_Residual = sum((y_test_new-yhat)**2)\n",
    "SS_Total = sum((y_test_new-np.mean(y_test_new))**2)\n",
    "r_squared = 1 - (float(SS_Residual))/SS_Total\n",
    "adjusted_r_squared = 1 - (1-r_squared)*(len(y_test_new)-1)/(len(y_test_new)-X_test_new.shape[1]-1)\n",
    "print(r_squared, adjusted_r_squared)"
   ]
  },
  {
   "cell_type": "markdown",
   "metadata": {
    "id": "d65PFHHrhGQu"
   },
   "source": [
    "- Here we will do prediction on Test Dataset (aka Real World Data) using Linear Regression model."
   ]
  },
  {
   "cell_type": "code",
   "execution_count": 380,
   "metadata": {
    "id": "cTEGybEYEitK"
   },
   "outputs": [],
   "source": [
    "import sys\n",
    "np.set_printoptions(threshold=sys.maxsize)\n",
    "y_test_pred = linreg.predict(test_numerical_features)\n",
    "#y_test_pred\n",
    "#print (y_test_pred.shape)\n",
    "#print (y_test_pred)"
   ]
  },
  {
   "cell_type": "markdown",
   "metadata": {
    "id": "hkgo2ycvhYNX"
   },
   "source": [
    "- Here we will write output of prediction to CSV file for submission."
   ]
  },
  {
   "cell_type": "code",
   "execution_count": 381,
   "metadata": {
    "id": "UrLD7eBtEitK"
   },
   "outputs": [],
   "source": [
    "output = pd.DataFrame({'REF_NO': test_numerical_features.index,'PM25': y_test_pred})\n",
    "output.to_csv('predicting-beijings-air-submission1.csv', index=False, header=False)"
   ]
  },
  {
   "cell_type": "markdown",
   "metadata": {
    "id": "_H3bOK6bXgb7"
   },
   "source": [
    "<a name = Section9></a>\n",
    "\n",
    "---\n",
    "# **9. Summarization**\n",
    "---"
   ]
  },
  {
   "cell_type": "markdown",
   "metadata": {
    "id": "HFqTdgNaXix8"
   },
   "source": [
    "<a name = Section91></a>\n",
    "### **9.1 Conclusion**\n",
    "\n",
    "- Linear Regression model was used for model evaluation and prediction considering this is ML Foundation project.\n",
    "- RMSE Score was used to arrive at model evaluation which is required for this ML Foundation Project.\n",
    "- SimpleImputer was used for missing value impute."
   ]
  },
  {
   "cell_type": "code",
   "execution_count": null,
   "metadata": {},
   "outputs": [],
   "source": []
  }
 ],
 "metadata": {
  "colab": {
   "collapsed_sections": [],
   "name": "Predicting Beijings Air.ipynb",
   "provenance": []
  },
  "kernelspec": {
   "display_name": "Python 3",
   "language": "python",
   "name": "python3"
  },
  "language_info": {
   "codemirror_mode": {
    "name": "ipython",
    "version": 3
   },
   "file_extension": ".py",
   "mimetype": "text/x-python",
   "name": "python",
   "nbconvert_exporter": "python",
   "pygments_lexer": "ipython3",
   "version": "3.8.5"
  }
 },
 "nbformat": 4,
 "nbformat_minor": 1
}
